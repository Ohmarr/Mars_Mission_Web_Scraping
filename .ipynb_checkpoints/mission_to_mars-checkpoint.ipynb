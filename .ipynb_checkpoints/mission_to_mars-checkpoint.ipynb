{
 "cells": [
  {
   "cell_type": "markdown",
   "metadata": {},
   "source": [
    "<h1 align=center> MARS WEB SCRAPING </h1>"
   ]
  },
  {
   "cell_type": "code",
   "execution_count": 1,
   "metadata": {},
   "outputs": [],
   "source": [
    "from bs4 import BeautifulSoup\n",
    "from splinter import Browser\n",
    "import requests\n",
    "import shutil\n",
    "import pandas as pd\n",
    "import time\n",
    "\n",
    "from IPython.display import Image, display, HTML # for printing to console; \n",
    "\n",
    "executable_path = {\"executable_path\": \"/usr/local/bin/chromedriver\"}\n",
    "# browser = Browser(\"chrome\", **executable_path, headless=False)\n",
    "# browser.quit()"
   ]
  },
  {
   "cell_type": "markdown",
   "metadata": {},
   "source": [
    "## Step 1 - Scraping\n",
    "Scraping was completed in this Jupyter Notebook. "
   ]
  },
  {
   "cell_type": "markdown",
   "metadata": {},
   "source": [
    "<hr>\n",
    "\n",
    "### Visit [Nasa's Mars News website](https://mars.nasa.gov/news/) & retrieve the latest article's title & text"
   ]
  },
  {
   "cell_type": "code",
   "execution_count": 2,
   "metadata": {
    "scrolled": true
   },
   "outputs": [
    {
     "name": "stdout",
     "output_type": "stream",
     "text": [
      "Now Safe to Run Next Cell\n",
      " https://mars.nasa.gov/news/\n"
     ]
    }
   ],
   "source": [
    "# Start @ JPL Homepage\n",
    "browser = Browser(\"chrome\", **executable_path, headless=False)\n",
    "nasa_news_home = \"https://mars.nasa.gov/news/\"\n",
    "browser.visit(nasa_news_home)\n",
    "\n",
    "print(f'Now Safe to Run Next Cell\\n {nasa_news_home}')"
   ]
  },
  {
   "cell_type": "markdown",
   "metadata": {},
   "source": [
    "##### * warning * : wait for previous cell to complete"
   ]
  },
  {
   "cell_type": "code",
   "execution_count": 3,
   "metadata": {},
   "outputs": [],
   "source": [
    "# goal: Parse news page to find title & paragraph of latest news article; \n",
    "html = browser.html\n",
    "soup = BeautifulSoup(html, 'html.parser')"
   ]
  },
  {
   "cell_type": "code",
   "execution_count": 4,
   "metadata": {},
   "outputs": [
    {
     "name": "stdout",
     "output_type": "stream",
     "text": [
      "<bound method Tag.prettify of <body id=\"news\" style=\"\">\n",
      "<svg display=\"none\" height=\"0\" width=\"0\" xmlns=\"http://www.w3.org/2000/svg\">\n",
      "<symbol height=\"30\" id=\"circle_plus\" viewbox=\"0 0 30 30\" width=\"30\">\n",
      "<g fill-rule=\"evenodd\" transform=\"translate(1 1)\">\n",
      "<circle cx=\"14\" cy=\"14\" fill=\"#fff\" fill-opacity=\".1\" fill-rule=\"nonzero\" r=\"14\" stroke=\"inherit\" stroke-width=\"1\"></circle>\n",
      "<path class=\"the_plus\" d=\"m18.856 12.96v1.738h-4.004v3.938h-1.848v-3.938h-4.004v-1.738h4.004v-3.96h1.848v3.96z\" fill=\"inherit\" stroke-width=\"0\"></path>\n",
      "</g>\n",
      "</symbol>\n",
      "<symbol height=\"30\" id=\"circle_arrow\" viewbox=\"0 0 30 30\" width=\"30\" xmlns=\"http://www.w3.org/2000/svg\">\n",
      "<g transform=\"translate(1 1)\"><circle cx=\"14\" cy=\"14\" fill=\"#fff\" fill-opacity=\".1\" r=\"14\" stroke=\"inherit\" stroke-width=\"1\"></circle>\n",
      "<path class=\"the_arrow\" d=\"m8.5 15.00025h7.984l-2.342 2.42c-.189.197-.189.518 0 .715l.684.717c.188.197.494.197.684 0l4.35-4.506c.188-.199.188-.52 0-.717l-4.322-4.48c-.189-.199-.496-.199-.684 0l-.684.716c-.189.197-.189.519 0 .716l2.341 2.419h-8.011c-.276 0-.5.223-.5.5v1c0 .275.224.5.5.5z\" fill=\"inherit\" stroke-width=\"0\"></path>\n",
      "</g>\n",
      "</symbol>\n",
      "<symbol height=\"30\" id=\"circle_close\" viewbox=\"0 0 30 30\" width=\"30\">\n",
      "<g fill-rule=\"evenodd\" transform=\"translate(1 1)\">\n",
      "<circle cx=\"14\" cy=\"14\" fill=\"blue\" fill-opacity=\"1\" fill-rule=\"nonzero\" r=\"14\" stroke=\"inherit\" stroke-width=\"1\"></circle>\n",
      "<path class=\"the_plus\" d=\"m18.856 12.96v1.738h-4.004v3.938h-1.848v-3.938h-4.004v-1.738h4.004v-3.96h1.848v3.96z\" fill=\"inherit\" stroke-width=\"0\"></path>\n",
      "</g>\n",
      "</symbol>\n",
      "<symbol height=\"30\" id=\"circle_close_hover\" viewbox=\"0 0 30 30\" width=\"30\">\n",
      "<g fill-rule=\"evenodd\" transform=\"translate(1 1)\">\n",
      "<circle cx=\"14\" cy=\"14\" fill=\"white\" fill-opacity=\"1\" fill-rule=\"nonzero\" r=\"14\" stroke=\"inherit\" stroke-width=\"1\"></circle>\n",
      "<path class=\"the_plus\" d=\"m18.856 12.96v1.738h-4.004v3.938h-1.848v-3.938h-4.004v-1.738h4.004v-3.96h1.848v3.96z\" fill=\"inherit\" stroke-width=\"0\"></path>\n",
      "</g>\n",
      "</symbol>\n",
      "<symbol height=\"6\" id=\"chevron_down\" viewbox=\"0 0 10 6\" width=\"10\" xmlns=\"http://www.w3.org/2000/svg\">\n",
      "<path d=\"m59 7v2.72727273l5 3.27272727 5-3.27272727v-2.72727273l-5 3.2727273z\" transform=\"translate(-59 -7)\"></path>\n",
      "</symbol>\n",
      "</svg>\n",
      "<div data-react-class=\"BrowseHappier\" data-react-props='{\"gt\":1,\"lt\":11}'><!-- react-empty: 1 --></div>\n",
      "<div data-react-class=\"HiPO\" data-react-props=\"{}\"><div class=\"\" data-reactroot=\"\" id=\"dashboard_modal\" style=\"height: 100%;\"><div class=\"loadedContent\"></div><div class=\"content\" id=\"dashboard_modal_content\"></div></div></div>\n",
      "<div id=\"main_container\">\n",
      "<div id=\"site_body\">\n",
      "<div class=\"site_header_area\">\n",
      "<header class=\"site_header\">\n",
      "<div class=\"brand_area\">\n",
      "<div class=\"brand1\">\n",
      "<a class=\"nasa_logo\" href=\"http://www.nasa.gov\" target=\"_blank\" title=\"visit nasa.gov\">NASA</a>\n",
      "</div>\n",
      "<div class=\"brand2\">\n",
      "<a class=\"top_logo\" href=\"https://science.nasa.gov/\" target=\"_blank\" title=\"Explore NASA Science\">NASA Science</a>\n",
      "<a class=\"sub_logo\" href=\"/mars-exploration/#\" title=\"Mars\">Mars Exploration Program</a>\n",
      "</div>\n",
      "<img alt=\"\" class=\"print_only print_logo\" src=\"/assets/logo_nasa_trio_black@2x.png\"/>\n",
      "</div>\n",
      "<a class=\"visuallyhidden focusable\" href=\"#page\">Skip Navigation</a>\n",
      "<div class=\"right_header_container\">\n",
      "<a class=\"menu_button\" href=\"javascript:void(0);\" id=\"menu_button\">\n",
      "<span class=\"menu_icon\">\n",
      "menu\n",
      "</span>\n",
      "</a>\n",
      "<a class=\"modal_close\" id=\"modal_close\">\n",
      "<span class=\"modal_close_icon\"></span>\n",
      "</a>\n",
      "<div class=\"nav_area\">\n",
      "<div id=\"site_nav_container\">\n",
      "<nav class=\"site_nav\">\n",
      "<ul class=\"nav\">\n",
      "<li>\n",
      "<div class=\"arrow_box\">\n",
      "<span class=\"arrow_down\"></span>\n",
      "</div>\n",
      "<div class=\"nav_title\">\n",
      "<a class=\"main_nav_item\" href=\"/#red_planet\" target=\"_self\">The Red Planet</a>\n",
      "</div>\n",
      "<div class=\"global_subnav_container\">\n",
      "<ul class=\"subnav\">\n",
      "<li>\n",
      "<a href=\"/#red_planet/0\" target=\"_self\">Dashboard</a>\n",
      "</li>\n",
      "<li>\n",
      "<a href=\"/#red_planet/1\" target=\"_self\">Science Goals</a>\n",
      "</li>\n",
      "<li>\n",
      "<a href=\"/#red_planet/2\" target=\"_self\">The Planet</a>\n",
      "</li>\n",
      "<li>\n",
      "<a href=\"/#red_planet/3\" target=\"_self\">Atmosphere</a>\n",
      "</li>\n",
      "<li>\n",
      "<a href=\"/#red_planet/4\" target=\"_self\">Astrobiology</a>\n",
      "</li>\n",
      "<li>\n",
      "<a href=\"/#red_planet/5\" target=\"_self\">Past, Present, Future, Timeline</a>\n",
      "</li>\n",
      "</ul>\n",
      "</div>\n",
      "<div class=\"gradient_line\"></div>\n",
      "</li><li>\n",
      "<div class=\"arrow_box\">\n",
      "<span class=\"arrow_down\"></span>\n",
      "</div>\n",
      "<div class=\"nav_title\">\n",
      "<a class=\"main_nav_item\" href=\"/#mars_exploration_program\" target=\"_self\">The Program</a>\n",
      "</div>\n",
      "<div class=\"global_subnav_container\">\n",
      "<ul class=\"subnav\">\n",
      "<li>\n",
      "<a href=\"/#mars_exploration_program/0\" target=\"_self\">Mission Statement</a>\n",
      "</li>\n",
      "<li>\n",
      "<a href=\"/#mars_exploration_program/1\" target=\"_self\">About the Program</a>\n",
      "</li>\n",
      "<li>\n",
      "<a href=\"/#mars_exploration_program/2\" target=\"_self\">Organization</a>\n",
      "</li>\n",
      "<li>\n",
      "<a href=\"/#mars_exploration_program/3\" target=\"_self\">Why Mars?</a>\n",
      "</li>\n",
      "<li>\n",
      "<a href=\"/#mars_exploration_program/4\" target=\"_self\">Research Programs</a>\n",
      "</li>\n",
      "<li>\n",
      "<a href=\"/#mars_exploration_program/5\" target=\"_self\">Planetary Resources</a>\n",
      "</li>\n",
      "<li>\n",
      "<a href=\"/#mars_exploration_program/6\" target=\"_self\">Technologies</a>\n",
      "</li>\n",
      "</ul>\n",
      "</div>\n",
      "<div class=\"gradient_line\"></div>\n",
      "</li><li>\n",
      "<div class=\"arrow_box\">\n",
      "<span class=\"arrow_down\"></span>\n",
      "</div>\n",
      "<div class=\"nav_title\">\n",
      "<a class=\"main_nav_item\" href=\"/#news_and_events\" target=\"_self\">News &amp; Events</a>\n",
      "</div>\n",
      "<div class=\"global_subnav_container\">\n",
      "<ul class=\"subnav\">\n",
      "<li class=\"current\">\n",
      "<a href=\"/news\" target=\"_self\">News</a>\n",
      "</li>\n",
      "<li>\n",
      "<a href=\"/events\" target=\"_self\">Events</a>\n",
      "</li>\n",
      "</ul>\n",
      "</div>\n",
      "<div class=\"gradient_line\"></div>\n",
      "</li><li>\n",
      "<div class=\"arrow_box\">\n",
      "<span class=\"arrow_down\"></span>\n",
      "</div>\n",
      "<div class=\"nav_title\">\n",
      "<a class=\"main_nav_item\" href=\"/#multimedia\" target=\"_self\">Multimedia</a>\n",
      "</div>\n",
      "<div class=\"global_subnav_container\">\n",
      "<ul class=\"subnav\">\n",
      "<li>\n",
      "<a href=\"/multimedia/images/\" target=\"_self\">Images</a>\n",
      "</li>\n",
      "<li>\n",
      "<a href=\"/multimedia/videos/\" target=\"_self\">Videos</a>\n",
      "</li>\n",
      "</ul>\n",
      "</div>\n",
      "<div class=\"gradient_line\"></div>\n",
      "</li><li>\n",
      "<div class=\"arrow_box\">\n",
      "<span class=\"arrow_down\"></span>\n",
      "</div>\n",
      "<div class=\"nav_title\">\n",
      "<a class=\"main_nav_item\" href=\"/#missions\" target=\"_self\">Missions</a>\n",
      "</div>\n",
      "<div class=\"global_subnav_container\">\n",
      "<ul class=\"subnav\">\n",
      "<li>\n",
      "<a href=\"/mars-exploration/missions/?category=167\" target=\"_self\">Past</a>\n",
      "</li>\n",
      "<li>\n",
      "<a href=\"/mars-exploration/missions/?category=170\" target=\"_self\">Present</a>\n",
      "</li>\n",
      "<li>\n",
      "<a href=\"/mars-exploration/missions/?category=171\" target=\"_self\">Future</a>\n",
      "</li>\n",
      "<li>\n",
      "<a href=\"/mars-exploration/partners\" target=\"_self\">International Partners</a>\n",
      "</li>\n",
      "</ul>\n",
      "</div>\n",
      "<div class=\"gradient_line\"></div>\n",
      "</li><li>\n",
      "<div class=\"nav_title\">\n",
      "<a class=\"main_nav_item\" href=\"/#more\" target=\"_self\">More</a>\n",
      "</div>\n",
      "<div class=\"gradient_line\"></div>\n",
      "</li><li>\n",
      "<div class=\"nav_title\">\n",
      "<a class=\"main_nav_item\" href=\"/legacy\" target=\"_self\">Legacy Site</a>\n",
      "</div>\n",
      "<div class=\"gradient_line\"></div>\n",
      "</li>\n",
      "</ul>\n",
      "<form action=\"https://mars.nasa.gov/search/\" class=\"overlay_search nav_search\">\n",
      "<label class=\"search_label\">\n",
      "Search\n",
      "</label>\n",
      "<input class=\"search_field\" name=\"q\" type=\"text\" value=\"\"/>\n",
      "<div class=\"search_submit\"></div>\n",
      "</form>\n",
      "</nav>\n",
      "</div>\n",
      "</div>\n",
      "</div>\n",
      "</header>\n",
      "</div>\n",
      "<div id=\"sticky_nav_spacer\"></div>\n",
      "<div id=\"page\">\n",
      "<!-- title to go in the page_header -->\n",
      "<div class=\"header_mask\">\n",
      "<section class=\"content_page module\"></section>\n",
      "</div>\n",
      "<div class=\"grid_list_page module content_page\">\n",
      "<div class=\"grid_layout\">\n",
      "<article>\n",
      "<header id=\"page_header\">\n",
      "</header>\n",
      "<div class=\"react_grid_list\" data-react-class=\"GridListPage\" data-react-props='{\"left_column\":false,\"class_name\":\"\",\"default_view\":\"list_view\",\"model\":\"news_items\",\"view_toggle\":false,\"search\":\"true\",\"list_item\":\"News\",\"title\":\"News\",\"categories\":[\"19,165,184,204\"],\"order\":\"publish_date desc,created_at desc\",\"no_items_text\":\"There are no items matching these criteria.\",\"site_title\":\"NASA’s Mars Exploration Program \",\"short_title\":\"Mars\",\"site_share_image\":\"/system/site_config_values/meta_share_images/1_142497main_PIA03154-200.jpg\",\"per_page\":null,\"filters\":\"[ [ \\\"date\\\", [ [ \\\"2019\\\", \\\"2019\\\" ], [ \\\"2018\\\", \\\"2018\\\" ], [ \\\"2017\\\", \\\"2017\\\" ], [ \\\"2016\\\", \\\"2016\\\" ], [ \\\"2015\\\", \\\"2015\\\" ], [ \\\"2014\\\", \\\"2014\\\" ], [ \\\"2013\\\", \\\"2013\\\" ], [ \\\"2012\\\", \\\"2012\\\" ], [ \\\"2011\\\", \\\"2011\\\" ], [ \\\"2010\\\", \\\"2010\\\" ], [ \\\"2009\\\", \\\"2009\\\" ], [ \\\"2008\\\", \\\"2008\\\" ], [ \\\"2007\\\", \\\"2007\\\" ], [ \\\"2006\\\", \\\"2006\\\" ], [ \\\"2005\\\", \\\"2005\\\" ], [ \\\"2004\\\", \\\"2004\\\" ], [ \\\"2003\\\", \\\"2003\\\" ], [ \\\"2002\\\", \\\"2002\\\" ], [ \\\"2001\\\", \\\"2001\\\" ], [ \\\"2000\\\", \\\"2000\\\" ] ], [ \\\"Latest\\\", \\\"\\\" ], false ], [ \\\"categories\\\", [ [ \\\"Feature Stories\\\", 165 ], [ \\\"Press Releases\\\", 19 ], [ \\\"Spotlights\\\", 184 ], [ \\\"Status Reports\\\", 204 ] ], [ \\\"All Categories\\\", \\\"\\\" ], false ] ]\",\"conditions\":null,\"scope_in_title\":true,\"options\":{\"blank_scope\":\"Latest\"},\"results_in_title\":false}'><section class=\"grid_gallery module list_view\" data-reactroot=\"\"><div class=\"grid_layout\"><header class=\"gallery_header\"><h2 class=\"module_title\">News</h2><section class=\"filter_bar\"><div class=\"section_search\"><div class=\"search_binder\"><input class=\"search_field\" name=\"search\" placeholder=\"search\" type=\"text\" value=\"\"/><input class=\"search_submit\" type=\"submit\" value=\"\"/></div><select class=\"filter\" id=\"date\" name=\"date\"><option value=\"\">Latest</option><option value=\"2019\">2019</option><option value=\"2018\">2018</option><option value=\"2017\">2017</option><option value=\"2016\">2016</option><option value=\"2015\">2015</option><option value=\"2014\">2014</option><option value=\"2013\">2013</option><option value=\"2012\">2012</option><option value=\"2011\">2011</option><option value=\"2010\">2010</option><option value=\"2009\">2009</option><option value=\"2008\">2008</option><option value=\"2007\">2007</option><option value=\"2006\">2006</option><option value=\"2005\">2005</option><option value=\"2004\">2004</option><option value=\"2003\">2003</option><option value=\"2002\">2002</option><option value=\"2001\">2001</option><option value=\"2000\">2000</option></select><select class=\"filter\" id=\"categories\" name=\"categories\"><option value=\"\">All Categories</option><option value=\"165\">Feature Stories</option><option value=\"19\">Press Releases</option><option value=\"184\">Spotlights</option><option value=\"204\">Status Reports</option></select></div></section><!-- react-text: 38 --><!-- /react-text --></header><ul class=\"item_list\"><li class=\"slide\"><div class=\"image_and_description_container\"><a href=\"/news/8410/nasas-maven-spacecraft-shrinking-its-mars-orbit-to-prepare-for-mars-2020-rover/\" target=\"_self\"><div class=\"rollover_description\"><div class=\"rollover_description_inner\">The MAVEN spacecraft today is starting a campaign to tighten its orbit around Mars to prepare to serve as a data-relay satellite for NASA’s Mars 2020 rover, which launches next year.</div><div class=\"overlay_arrow\"><img alt=\"More\" src=\"/assets/overlay-arrow.png\"/></div></div><div class=\"list_image\"><img alt=\"Aerobraking plan for MAVEN\" src=\"/system/news_items/list_view_images/8410_mavennotext-th.jpg\"/></div><div class=\"bottom_gradient\"><div><h3>NASA's MAVEN Spacecraft Shrinking its Mars Orbit to Prepare for Mars 2020 Rover</h3></div></div></a><div class=\"list_text\"><div class=\"list_date\">February 11, 2019</div><div class=\"content_title\"><a href=\"/news/8410/nasas-maven-spacecraft-shrinking-its-mars-orbit-to-prepare-for-mars-2020-rover/\" target=\"_self\">NASA's MAVEN Spacecraft Shrinking its Mars Orbit to Prepare for Mars 2020 Rover</a></div><div class=\"article_teaser_body\">The MAVEN spacecraft today is starting a campaign to tighten its orbit around Mars to prepare to serve as a data-relay satellite for NASA’s Mars 2020 rover, which launches next year.</div></div></div></li><li class=\"slide\"><div class=\"image_and_description_container\"><a href=\"/news/8409/360-video-curiosity-rover-departs-vera-rubin-ridge/\" target=\"_self\"><div class=\"rollover_description\"><div class=\"rollover_description_inner\">This panorama from the Mast Camera (Mastcam) on NASA's Curiosity Mars rover was taken on Dec. 19 (Sol 2265). The rover's last drill location on Vera Rubin Ridge is visible, as well as the clay region it will spend the next year exploring.</div><div class=\"overlay_arrow\"><img alt=\"More\" src=\"/assets/overlay-arrow.png\"/></div></div><div class=\"list_image\"><img alt=\"\" src=\"/system/news_items/list_view_images/8409_22288_PIA23042-320x240.jpg\"/></div><div class=\"bottom_gradient\"><div><h3>360 Video: Curiosity Rover Departs Vera Rubin Ridge</h3></div></div></a><div class=\"list_text\"><div class=\"list_date\">February  8, 2019</div><div class=\"content_title\"><a href=\"/news/8409/360-video-curiosity-rover-departs-vera-rubin-ridge/\" target=\"_self\">360 Video: Curiosity Rover Departs Vera Rubin Ridge</a></div><div class=\"article_teaser_body\">This panorama from the Mast Camera (Mastcam) on NASA's Curiosity Mars rover was taken on Dec. 19 (Sol 2265). The rover's last drill location on Vera Rubin Ridge is visible, as well as the clay region it will spend the next year exploring.</div></div></div></li><li class=\"slide\"><div class=\"image_and_description_container\"><a href=\"/news/8408/beyond-mars-the-mini-marco-spacecraft-fall-silent/\" target=\"_self\"><div class=\"rollover_description\"><div class=\"rollover_description_inner\">The first CubeSat mission to deep space may have reached their limit, but they could inspire future NASA missions.</div><div class=\"overlay_arrow\"><img alt=\"More\" src=\"/assets/overlay-arrow.png\"/></div></div><div class=\"list_image\"><img alt=\"MarCO-B, one of the experimental Mars Cube One (MarCO) CubeSats, took these images as it approached Mars.\" src=\"/system/news_items/list_view_images/8408_22206_PIA22655-th.gif\"/></div><div class=\"bottom_gradient\"><div><h3>Beyond Mars, the Mini MarCO Spacecraft Fall Silent</h3></div></div></a><div class=\"list_text\"><div class=\"list_date\">February  5, 2019</div><div class=\"content_title\"><a href=\"/news/8408/beyond-mars-the-mini-marco-spacecraft-fall-silent/\" target=\"_self\">Beyond Mars, the Mini MarCO Spacecraft Fall Silent</a></div><div class=\"article_teaser_body\">The first CubeSat mission to deep space may have reached their limit, but they could inspire future NASA missions.</div></div></div></li><li class=\"slide\"><div class=\"image_and_description_container\"><a href=\"/news/8407/insights-seismometer-now-has-a-cozy-shelter-on-mars/\" target=\"_self\"><div class=\"rollover_description\"><div class=\"rollover_description_inner\">A domed shield has been set over one of InSight's primary science instruments, protecting it from Mars' wind and temperature changes.</div><div class=\"overlay_arrow\"><img alt=\"More\" src=\"/assets/overlay-arrow.png\"/></div></div><div class=\"list_image\"><img alt=\"NASA's InSight lander deployed its Wind and Thermal Shield on Feb. 2 (Sol 66). The shield covers InSight's seismometer, which was set down onto the Martian surface on Dec. 19.\" src=\"/system/news_items/list_view_images/8407_PIA22959-th.jpg\"/></div><div class=\"bottom_gradient\"><div><h3>InSight's Seismometer Now Has a Cozy Shelter on Mars</h3></div></div></a><div class=\"list_text\"><div class=\"list_date\">February  4, 2019</div><div class=\"content_title\"><a href=\"/news/8407/insights-seismometer-now-has-a-cozy-shelter-on-mars/\" target=\"_self\">InSight's Seismometer Now Has a Cozy Shelter on Mars</a></div><div class=\"article_teaser_body\">A domed shield has been set over one of InSight's primary science instruments, protecting it from Mars' wind and temperature changes.</div></div></div></li><li class=\"slide\"><div class=\"image_and_description_container\"><a href=\"/news/8406/mars-buggy-curiosity-measures-a-mountains-gravity/\" target=\"_self\"><div class=\"rollover_description\"><div class=\"rollover_description_inner\">Smartphone-like sensors on the NASA rover were used to calculate the density of Mount Sharp, offering new clues to its formation.</div><div class=\"overlay_arrow\"><img alt=\"More\" src=\"/assets/overlay-arrow.png\"/></div></div><div class=\"list_image\"><img alt=\"Side-by-side images depict NASA's Curiosity rover (left) and a moon buggy driven during the Apollo 16 mission. \" src=\"/system/news_items/list_view_images/8406_marsrover-lunarrover-th.gif\"/></div><div class=\"bottom_gradient\"><div><h3>\"Mars Buggy\" Curiosity Measures a Mountain's Gravity</h3></div></div></a><div class=\"list_text\"><div class=\"list_date\">January 31, 2019</div><div class=\"content_title\"><a href=\"/news/8406/mars-buggy-curiosity-measures-a-mountains-gravity/\" target=\"_self\">\"Mars Buggy\" Curiosity Measures a Mountain's Gravity</a></div><div class=\"article_teaser_body\">Smartphone-like sensors on the NASA rover were used to calculate the density of Mount Sharp, offering new clues to its formation.</div></div></div></li><li class=\"slide\"><div class=\"image_and_description_container\"><a href=\"/news/8405/curiosity-says-farewell-to-mars-vera-rubin-ridge/\" target=\"_self\"><div class=\"rollover_description\"><div class=\"rollover_description_inner\">The Mars rover is moving on and has taken its last selfie on the ridge it's explored for more than a year.</div><div class=\"overlay_arrow\"><img alt=\"More\" src=\"/assets/overlay-arrow.png\"/></div></div><div class=\"list_image\"><img alt=\"\" src=\"/system/news_items/list_view_images/8405_PIA22960-th.jpg\"/></div><div class=\"bottom_gradient\"><div><h3>Curiosity Says Farewell to Mars' Vera Rubin Ridge</h3></div></div></a><div class=\"list_text\"><div class=\"list_date\">January 28, 2019</div><div class=\"content_title\"><a href=\"/news/8405/curiosity-says-farewell-to-mars-vera-rubin-ridge/\" target=\"_self\">Curiosity Says Farewell to Mars' Vera Rubin Ridge</a></div><div class=\"article_teaser_body\">The Mars rover is moving on and has taken its last selfie on the ridge it's explored for more than a year.</div></div></div></li><li class=\"slide\"><div class=\"image_and_description_container\"><a href=\"/news/8404/rover-team-beaming-new-commands-to-opportunity-on-mars/\" target=\"_self\"><div class=\"rollover_description\"><div class=\"rollover_description_inner\">Engineers at JPL have begun transmitting a new set of commands to Opportunity in an attempt to compel the Mars rover to contact Earth.</div><div class=\"overlay_arrow\"><img alt=\"More\" src=\"/assets/overlay-arrow.png\"/></div></div><div class=\"list_image\"><img alt=\"A Goldstone 111.5-foot (34-meter) beam-waveguide antenna tracks a spacecraft as it comes into view. The Goldstone Deep Space Communications Complex is located in the Mojave Desert in California.\" src=\"/system/news_items/list_view_images/8404_PIA17791-th.jpg\"/></div><div class=\"bottom_gradient\"><div><h3>Rover Team Beaming New Commands to Opportunity on Mars</h3></div></div></a><div class=\"list_text\"><div class=\"list_date\">January 25, 2019</div><div class=\"content_title\"><a href=\"/news/8404/rover-team-beaming-new-commands-to-opportunity-on-mars/\" target=\"_self\">Rover Team Beaming New Commands to Opportunity on Mars</a></div><div class=\"article_teaser_body\">Engineers at JPL have begun transmitting a new set of commands to Opportunity in an attempt to compel the Mars rover to contact Earth.</div></div></div></li><li class=\"slide\"><div class=\"image_and_description_container\"><a href=\"/news/8403/nasas-opportunity-rover-logs-15-years-on-mars/\" target=\"_self\"><div class=\"rollover_description\"><div class=\"rollover_description_inner\">The rover landed in a region of the Red Planet called Meridiani Planum 16 years ago today, on Jan. 24, 2004.</div><div class=\"overlay_arrow\"><img alt=\"More\" src=\"/assets/overlay-arrow.png\"/></div></div><div class=\"list_image\"><img alt=\"An artist's concept portrays a NASA Mars Exploration Rover on the surface of Mars. Credit: NASA/JPL/Cornell University.\" src=\"/system/news_items/list_view_images/8403_PIA04413a-thmfeat.jpg\"/></div><div class=\"bottom_gradient\"><div><h3>NASA's Opportunity Rover Logs 15 Years on Mars</h3></div></div></a><div class=\"list_text\"><div class=\"list_date\">January 24, 2019</div><div class=\"content_title\"><a href=\"/news/8403/nasas-opportunity-rover-logs-15-years-on-mars/\" target=\"_self\">NASA's Opportunity Rover Logs 15 Years on Mars</a></div><div class=\"article_teaser_body\">The rover landed in a region of the Red Planet called Meridiani Planum 16 years ago today, on Jan. 24, 2004.</div></div></div></li><li class=\"slide\"><div class=\"image_and_description_container\"><a href=\"/news/8402/nasas-insight-places-first-instrument-on-mars/\" target=\"_self\"><div class=\"rollover_description\"><div class=\"rollover_description_inner\">In deploying its first instrument onto the surface of Mars, the lander completes a major mission milestone.</div><div class=\"overlay_arrow\"><img alt=\"More\" src=\"/assets/overlay-arrow.png\"/></div></div><div class=\"list_image\"><img alt=\"\" src=\"/system/news_items/list_view_images/8402_PIA22977_SEIS_deploy_IDC_calibrated-th.gif\"/></div><div class=\"bottom_gradient\"><div><h3>NASA's InSight Places First Instrument on Mars</h3></div></div></a><div class=\"list_text\"><div class=\"list_date\">December 19, 2018</div><div class=\"content_title\"><a href=\"/news/8402/nasas-insight-places-first-instrument-on-mars/\" target=\"_self\">NASA's InSight Places First Instrument on Mars</a></div><div class=\"article_teaser_body\">In deploying its first instrument onto the surface of Mars, the lander completes a major mission milestone.</div></div></div></li><li class=\"slide\"><div class=\"image_and_description_container\"><a href=\"/news/8401/insight-engineers-have-made-a-martian-rock-garden/\" target=\"_self\"><div class=\"rollover_description\"><div class=\"rollover_description_inner\">Reconstructing Mars here on Earth lets them practice setting down the lander's science instruments.</div><div class=\"overlay_arrow\"><img alt=\"More\" src=\"/assets/overlay-arrow.png\"/></div></div><div class=\"list_image\"><img alt=\"Engineers practice deploying InSight's instruments in a lab at NASA's Jet Propulsion Laboratory in Pasadena, California. Several of them are wearing sunglasses to block the bright yellow lights in the test space, which mimic sunlight as it appears on Mars.\" src=\"/system/news_items/list_view_images/8401_PIA22744-th.jpg\"/></div><div class=\"bottom_gradient\"><div><h3>InSight Engineers Have Made a Martian Rock Garden</h3></div></div></a><div class=\"list_text\"><div class=\"list_date\">December 18, 2018</div><div class=\"content_title\"><a href=\"/news/8401/insight-engineers-have-made-a-martian-rock-garden/\" target=\"_self\">InSight Engineers Have Made a Martian Rock Garden</a></div><div class=\"article_teaser_body\">Reconstructing Mars here on Earth lets them practice setting down the lander's science instruments.</div></div></div></li><li class=\"slide\"><div class=\"image_and_description_container\"><a href=\"/news/8400/mars-insight-lander-seen-in-first-images-from-space/\" target=\"_self\"><div class=\"rollover_description\"><div class=\"rollover_description_inner\">Look closely, and you can make out the lander's solar panels.</div><div class=\"overlay_arrow\"><img alt=\"More\" src=\"/assets/overlay-arrow.png\"/></div></div><div class=\"list_image\"><img alt=\"NASA's InSight spacecraft, its heat shield and its parachute were imaged on Dec. 6 and 11 by the HiRISE camera onboard NASA's Mars Reconnaissance Orbiter.\" src=\"/system/news_items/list_view_images/8400_PIA22875-16_320.png\"/></div><div class=\"bottom_gradient\"><div><h3>Mars InSight Lander Seen in First Images from Space </h3></div></div></a><div class=\"list_text\"><div class=\"list_date\">December 13, 2018</div><div class=\"content_title\"><a href=\"/news/8400/mars-insight-lander-seen-in-first-images-from-space/\" target=\"_self\">Mars InSight Lander Seen in First Images from Space </a></div><div class=\"article_teaser_body\">Look closely, and you can make out the lander's solar panels.</div></div></div></li><li class=\"slide\"><div class=\"image_and_description_container\"><a href=\"/news/8398/nasas-insight-takes-its-first-selfie/\" target=\"_self\"><div class=\"rollover_description\"><div class=\"rollover_description_inner\">Two new image mosaics detail the lander's deck and \"workspace\" — the surface where it will eventually set down its science instruments.</div><div class=\"overlay_arrow\"><img alt=\"More\" src=\"/assets/overlay-arrow.png\"/></div></div><div class=\"list_image\"><img alt=\"This is NASA InSight's first full selfie on Mars. It displays the lander's solar panels and deck. On top of the deck are its science instruments, weather sensor booms and UHF antenna.\" src=\"/system/news_items/list_view_images/8398_PIA22876_320.png\"/></div><div class=\"bottom_gradient\"><div><h3>NASA's InSight Takes Its First Selfie</h3></div></div></a><div class=\"list_text\"><div class=\"list_date\">December 11, 2018</div><div class=\"content_title\"><a href=\"/news/8398/nasas-insight-takes-its-first-selfie/\" target=\"_self\">NASA's InSight Takes Its First Selfie</a></div><div class=\"article_teaser_body\">Two new image mosaics detail the lander's deck and \"workspace\" — the surface where it will eventually set down its science instruments.</div></div></div></li><li class=\"slide\"><div class=\"image_and_description_container\"><a href=\"/news/8397/nasa-insight-lander-hears-martian-winds/\" target=\"_self\"><div class=\"rollover_description\"><div class=\"rollover_description_inner\">Vibrations picked up by two spacecraft instruments have provided the first sounds of Martian wind.</div><div class=\"overlay_arrow\"><img alt=\"More\" src=\"/assets/overlay-arrow.png\"/></div></div><div class=\"list_image\"><img alt=\"One of InSight's 7-foot (2.2 meter) wide solar panels was imaged by the lander's Instrument Deployment Camera, which is fixed to the elbow of its robotic arm. \" src=\"/system/news_items/list_view_images/8397_1_PIA22736-th.jpg\"/></div><div class=\"bottom_gradient\"><div><h3>NASA InSight Lander 'Hears' Martian Winds </h3></div></div></a><div class=\"list_text\"><div class=\"list_date\">December  7, 2018</div><div class=\"content_title\"><a href=\"/news/8397/nasa-insight-lander-hears-martian-winds/\" target=\"_self\">NASA InSight Lander 'Hears' Martian Winds </a></div><div class=\"article_teaser_body\">Vibrations picked up by two spacecraft instruments have provided the first sounds of Martian wind.</div></div></div></li><li class=\"slide\"><div class=\"image_and_description_container\"><a href=\"/news/8396/nasas-mars-insight-flexes-its-arm/\" target=\"_self\"><div class=\"rollover_description\"><div class=\"rollover_description_inner\">Now unstowed, the spacecraft's robotic arm will point a camera located on its elbow and take images of the surroundings.</div><div class=\"overlay_arrow\"><img alt=\"More\" src=\"/assets/overlay-arrow.png\"/></div></div><div class=\"list_image\"><img alt=\"InSight's robotic-arm mounted Instrument Deployment Camera shows the instruments on the spacecraft's deck.\" src=\"/system/news_items/list_view_images/8396_PIA22871-th.jpg\"/></div><div class=\"bottom_gradient\"><div><h3>NASA's Mars InSight Flexes Its Arm</h3></div></div></a><div class=\"list_text\"><div class=\"list_date\">December  6, 2018</div><div class=\"content_title\"><a href=\"/news/8396/nasas-mars-insight-flexes-its-arm/\" target=\"_self\">NASA's Mars InSight Flexes Its Arm</a></div><div class=\"article_teaser_body\">Now unstowed, the spacecraft's robotic arm will point a camera located on its elbow and take images of the surroundings.</div></div></div></li><li class=\"slide\"><div class=\"image_and_description_container\"><a href=\"/news/8395/mars-new-home-a-large-sandbox/\" target=\"_self\"><div class=\"rollover_description\"><div class=\"rollover_description_inner\">With InSight safely on the surface of Mars, the mission team is busy learning more about the spacecraft's landing site.</div><div class=\"overlay_arrow\"><img alt=\"More\" src=\"/assets/overlay-arrow.png\"/></div></div><div class=\"list_image\"><img alt=\"NASA’s InSight spacecraft flipped open the lens cover on its Instrument Context Camera (ICC) on Nov. 30, 2018, and captured this view of Mars.\" src=\"/system/news_items/list_view_images/8395_ICCDustCoverOff_C000M0004_596888328EDR_F0000_0461M1_320.png\"/></div><div class=\"bottom_gradient\"><div><h3>Mars New Home 'a Large Sandbox'</h3></div></div></a><div class=\"list_text\"><div class=\"list_date\">November 30, 2018</div><div class=\"content_title\"><a href=\"/news/8395/mars-new-home-a-large-sandbox/\" target=\"_self\">Mars New Home 'a Large Sandbox'</a></div><div class=\"article_teaser_body\">With InSight safely on the surface of Mars, the mission team is busy learning more about the spacecraft's landing site.</div></div></div></li><li class=\"slide\"><div class=\"image_and_description_container\"><a href=\"/news/8394/nasa-hears-marco-cubesats-loud-and-clear-from-mars/\" target=\"_self\"><div class=\"rollover_description\"><div class=\"rollover_description_inner\">A pair of tiny, experimental spacecraft fulfilled their mission yesterday, relaying back near-real-time data during InSight's landing.</div><div class=\"overlay_arrow\"><img alt=\"More\" src=\"/assets/overlay-arrow.png\"/></div></div><div class=\"list_image\"><img alt=\"MarCO-B took this image of Mars from about 4,700 miles (7,600 kilometers) away during its flyby of Mars on Nov. 26, 2018.\" src=\"/system/news_items/list_view_images/8394_MarCOfarewell_320.jpg\"/></div><div class=\"bottom_gradient\"><div><h3>NASA Hears MarCO CubeSats Loud and Clear from Mars </h3></div></div></a><div class=\"list_text\"><div class=\"list_date\">November 27, 2018</div><div class=\"content_title\"><a href=\"/news/8394/nasa-hears-marco-cubesats-loud-and-clear-from-mars/\" target=\"_self\">NASA Hears MarCO CubeSats Loud and Clear from Mars </a></div><div class=\"article_teaser_body\">A pair of tiny, experimental spacecraft fulfilled their mission yesterday, relaying back near-real-time data during InSight's landing.</div></div></div></li><li class=\"slide\"><div class=\"image_and_description_container\"><a href=\"/news/8393/insight-is-catching-rays-on-mars/\" target=\"_self\"><div class=\"rollover_description\"><div class=\"rollover_description_inner\">The lander has sent data indicating its solar panels are open and receiving sunlight to power its surface operations.</div><div class=\"overlay_arrow\"><img alt=\"More\" src=\"/assets/overlay-arrow.png\"/></div></div><div class=\"list_image\"><img alt=\"The Instrument Deployment Camera (IDC), located on the robotic arm of NASA's InSight lander, took this photo on the surface of Mars.\" src=\"/system/news_items/list_view_images/8393_D000M0000_596535424EDR_F0000_0106M1-stretch_320.jpg\"/></div><div class=\"bottom_gradient\"><div><h3>InSight Is Catching Rays on Mars</h3></div></div></a><div class=\"list_text\"><div class=\"list_date\">November 26, 2018</div><div class=\"content_title\"><a href=\"/news/8393/insight-is-catching-rays-on-mars/\" target=\"_self\">InSight Is Catching Rays on Mars</a></div><div class=\"article_teaser_body\">The lander has sent data indicating its solar panels are open and receiving sunlight to power its surface operations.</div></div></div></li><li class=\"slide\"><div class=\"image_and_description_container\"><a href=\"/news/8392/nasa-insight-lander-arrives-on-martian-surface/\" target=\"_self\"><div class=\"rollover_description\"><div class=\"rollover_description_inner\">The touchdown marks the eighth time NASA has successfully landed a spacecraft on Mars.</div><div class=\"overlay_arrow\"><img alt=\"More\" src=\"/assets/overlay-arrow.png\"/></div></div><div class=\"list_image\"><img alt=\"The NASA InSight team reacts after receiving confirmation that the spacecraft successfully touched down on the surface of Mars.\" src=\"/system/news_items/list_view_images/8392_touchdown_320.jpg\"/></div><div class=\"bottom_gradient\"><div><h3>NASA InSight Lander Arrives on Martian Surface </h3></div></div></a><div class=\"list_text\"><div class=\"list_date\">November 26, 2018</div><div class=\"content_title\"><a href=\"/news/8392/nasa-insight-lander-arrives-on-martian-surface/\" target=\"_self\">NASA InSight Lander Arrives on Martian Surface </a></div><div class=\"article_teaser_body\">The touchdown marks the eighth time NASA has successfully landed a spacecraft on Mars.</div></div></div></li><li class=\"slide\"><div class=\"image_and_description_container\"><a href=\"/news/8391/landing-day-for-insight/\" target=\"_self\"><div class=\"rollover_description\"><div class=\"rollover_description_inner\">NASA's InSight spacecraft is on target for Mars landing at around noon PST today.</div><div class=\"overlay_arrow\"><img alt=\"More\" src=\"/assets/overlay-arrow.png\"/></div></div><div class=\"list_image\"><img alt=\"The InSight spacecraft approaches Mars in this artist’s concept.\" src=\"/system/news_items/list_view_images/8391_PIA22099-16_320.jpg\"/></div><div class=\"bottom_gradient\"><div><h3>Landing Day for InSight</h3></div></div></a><div class=\"list_text\"><div class=\"list_date\">November 25, 2018</div><div class=\"content_title\"><a href=\"/news/8391/landing-day-for-insight/\" target=\"_self\">Landing Day for InSight</a></div><div class=\"article_teaser_body\">NASA's InSight spacecraft is on target for Mars landing at around noon PST today.</div></div></div></li><li class=\"slide\"><div class=\"image_and_description_container\"><a href=\"/news/8390/nasa-insight-landing-on-mars-milestones/\" target=\"_self\"><div class=\"rollover_description\"><div class=\"rollover_description_inner\">On Nov. 26, NASA's InSight spacecraft will blaze through the Martian atmosphere and set a lander gently on the surface in less time than it takes to cook a hard-boiled egg.</div><div class=\"overlay_arrow\"><img alt=\"More\" src=\"/assets/overlay-arrow.png\"/></div></div><div class=\"list_image\"><img alt=\"This illustration shows a simulated view of NASA's InSight lander descending towards the surface of Mars on its parachute.\" src=\"/system/news_items/list_view_images/8390_PIA22809-th.jpg\"/></div><div class=\"bottom_gradient\"><div><h3>NASA InSight Landing on Mars: Milestones</h3></div></div></a><div class=\"list_text\"><div class=\"list_date\">November 21, 2018</div><div class=\"content_title\"><a href=\"/news/8390/nasa-insight-landing-on-mars-milestones/\" target=\"_self\">NASA InSight Landing on Mars: Milestones</a></div><div class=\"article_teaser_body\">On Nov. 26, NASA's InSight spacecraft will blaze through the Martian atmosphere and set a lander gently on the surface in less time than it takes to cook a hard-boiled egg.</div></div></div></li><li class=\"slide\"><div class=\"image_and_description_container\"><a href=\"/news/8389/nasa-insight-team-on-course-for-mars-touchdown/\" target=\"_self\"><div class=\"rollover_description\"><div class=\"rollover_description_inner\">NASA's Mars InSight spacecraft is on track for a soft touchdown on the surface of the Red Planet on Nov. 26.</div><div class=\"overlay_arrow\"><img alt=\"More\" src=\"/assets/overlay-arrow.png\"/></div></div><div class=\"list_image\"><img alt=\"\" src=\"/system/news_items/list_view_images/8389_PIA22100_320.jpg\"/></div><div class=\"bottom_gradient\"><div><h3>NASA InSight Team on Course for Mars Touchdown</h3></div></div></a><div class=\"list_text\"><div class=\"list_date\">November 21, 2018</div><div class=\"content_title\"><a href=\"/news/8389/nasa-insight-team-on-course-for-mars-touchdown/\" target=\"_self\">NASA InSight Team on Course for Mars Touchdown</a></div><div class=\"article_teaser_body\">NASA's Mars InSight spacecraft is on track for a soft touchdown on the surface of the Red Planet on Nov. 26.</div></div></div></li><li class=\"slide\"><div class=\"image_and_description_container\"><a href=\"/news/8388/what-two-planetary-siblings-can-teach-us-about-life/\" target=\"_self\"><div class=\"rollover_description\"><div class=\"rollover_description_inner\">In studying Mars, NASA's InSight will reveal what makes one planet more or less suitable for life than another.</div><div class=\"overlay_arrow\"><img alt=\"More\" src=\"/assets/overlay-arrow.png\"/></div></div><div class=\"list_image\"><img alt=\"This composite image of Earth and Mars was created to allow viewers to gain a better understanding of the relative sizes of the two planets.\" src=\"/system/news_items/list_view_images/8388_20030728_marsClose02_320.jpg\"/></div><div class=\"bottom_gradient\"><div><h3>What Two Planetary Siblings Can Teach Us About Life</h3></div></div></a><div class=\"list_text\"><div class=\"list_date\">November 20, 2018</div><div class=\"content_title\"><a href=\"/news/8388/what-two-planetary-siblings-can-teach-us-about-life/\" target=\"_self\">What Two Planetary Siblings Can Teach Us About Life</a></div><div class=\"article_teaser_body\">In studying Mars, NASA's InSight will reveal what makes one planet more or less suitable for life than another.</div></div></div></li><li class=\"slide\"><div class=\"image_and_description_container\"><a href=\"/news/8387/nasa-announces-landing-site-for-mars-2020-rover/\" target=\"_self\"><div class=\"rollover_description\"><div class=\"rollover_description_inner\">After a five-year search, NASA has chosen Jezero Crater as the landing site for its upcoming Mars 2020 rover mission.</div><div class=\"overlay_arrow\"><img alt=\"More\" src=\"/assets/overlay-arrow.png\"/></div></div><div class=\"list_image\"><img alt=\"On ancient Mars, water carved channels and transported sediments to form fans and deltas within lake basins. \" src=\"/system/news_items/list_view_images/8387_JezeroCrater-320x240.jpg\"/></div><div class=\"bottom_gradient\"><div><h3>NASA Announces Landing Site for Mars 2020 Rover</h3></div></div></a><div class=\"list_text\"><div class=\"list_date\">November 19, 2018</div><div class=\"content_title\"><a href=\"/news/8387/nasa-announces-landing-site-for-mars-2020-rover/\" target=\"_self\">NASA Announces Landing Site for Mars 2020 Rover</a></div><div class=\"article_teaser_body\">After a five-year search, NASA has chosen Jezero Crater as the landing site for its upcoming Mars 2020 rover mission.</div></div></div></li><li class=\"slide\"><div class=\"image_and_description_container\"><a href=\"/news/8386/nasa-to-host-media-call-on-next-mars-landing-site/\" target=\"_self\"><div class=\"rollover_description\"><div class=\"rollover_description_inner\">NASA will host a media teleconference at 9 a.m. PST (noon EST) Monday, Nov. 19, to provide details about the Mars 2020 rover’s landing site on the Red Planet.</div><div class=\"overlay_arrow\"><img alt=\"More\" src=\"/assets/overlay-arrow.png\"/></div></div><div class=\"list_image\"><img alt=\"This view of Mars was assembled from MOC daily global images obtained on May 12, 2003. \" src=\"/system/news_items/list_view_images/8386_PIA04591-320x240.jpg\"/></div><div class=\"bottom_gradient\"><div><h3>NASA to Host Media Call on Next Mars Landing Site</h3></div></div></a><div class=\"list_text\"><div class=\"list_date\">November 16, 2018</div><div class=\"content_title\"><a href=\"/news/8386/nasa-to-host-media-call-on-next-mars-landing-site/\" target=\"_self\">NASA to Host Media Call on Next Mars Landing Site</a></div><div class=\"article_teaser_body\">NASA will host a media teleconference at 9 a.m. PST (noon EST) Monday, Nov. 19, to provide details about the Mars 2020 rover’s landing site on the Red Planet.</div></div></div></li><li class=\"slide\"><div class=\"image_and_description_container\"><a href=\"/news/8385/how-nasa-will-know-when-insight-touches-down/\" target=\"_self\"><div class=\"rollover_description\"><div class=\"rollover_description_inner\">On Nov. 26, engineers will look for a combination of signals to determine whether the next spacecraft to Mars lands safely.</div><div class=\"overlay_arrow\"><img alt=\"More\" src=\"/assets/overlay-arrow.png\"/></div></div><div class=\"list_image\"><img alt=\"This animation depicts the MarCO CubeSats relaying data from NASA's InSight lander as it enters the Martian atmosphere.\" src=\"/system/news_items/list_view_images/8385_PIA22738-th.jpg\"/></div><div class=\"bottom_gradient\"><div><h3>How NASA Will Know When InSight Touches Down</h3></div></div></a><div class=\"list_text\"><div class=\"list_date\">November 16, 2018</div><div class=\"content_title\"><a href=\"/news/8385/how-nasa-will-know-when-insight-touches-down/\" target=\"_self\">How NASA Will Know When InSight Touches Down</a></div><div class=\"article_teaser_body\">On Nov. 26, engineers will look for a combination of signals to determine whether the next spacecraft to Mars lands safely.</div></div></div></li><li class=\"slide\"><div class=\"image_and_description_container\"><a href=\"/news/8384/nasa-brings-mars-landing-to-viewers-everywhere/\" target=\"_self\"><div class=\"rollover_description\"><div class=\"rollover_description_inner\">NASA's InSight lander is scheduled to touch down on the Red Planet at approximately noon PST  on Nov. 26, with a new suite of instruments to probe below the Martian surface.</div><div class=\"overlay_arrow\"><img alt=\"More\" src=\"/assets/overlay-arrow.png\"/></div></div><div class=\"list_image\"><img alt=\"This illustration shows a simulated view of NASA's InSight lander firing retrorockets to slow down as it descends toward the surface of Mars.\" src=\"/system/news_items/list_view_images/8384_PIA22810_320.jpg\"/></div><div class=\"bottom_gradient\"><div><h3>NASA Brings Mars Landing to Viewers Everywhere</h3></div></div></a><div class=\"list_text\"><div class=\"list_date\">November 13, 2018</div><div class=\"content_title\"><a href=\"/news/8384/nasa-brings-mars-landing-to-viewers-everywhere/\" target=\"_self\">NASA Brings Mars Landing to Viewers Everywhere</a></div><div class=\"article_teaser_body\">NASA's InSight lander is scheduled to touch down on the Red Planet at approximately noon PST  on Nov. 26, with a new suite of instruments to probe below the Martian surface.</div></div></div></li><li class=\"slide\"><div class=\"image_and_description_container\"><a href=\"/news/8371/curiosity-on-the-move-again/\" target=\"_self\"><div class=\"rollover_description\"><div class=\"rollover_description_inner\">NASA's Mars Curiosity rover drove about 197 feet over the weekend to a site called Lake Orcadie, pushing its total odometry to over 12 miles.</div><div class=\"overlay_arrow\"><img alt=\"More\" src=\"/assets/overlay-arrow.png\"/></div></div><div class=\"list_image\"><img alt=\"A self-portrait of NASA's Curiosity rover taken on Sol 2082 (June 15, 2018). A Martian dust storm has reduced sunlight and visibility at the rover's location in Gale Crater.\" src=\"/system/news_items/list_view_images/8371_PIA22486_320x240.jpg\"/></div><div class=\"bottom_gradient\"><div><h3>Curiosity on the Move Again</h3></div></div></a><div class=\"list_text\"><div class=\"list_date\">November  6, 2018</div><div class=\"content_title\"><a href=\"/news/8371/curiosity-on-the-move-again/\" target=\"_self\">Curiosity on the Move Again</a></div><div class=\"article_teaser_body\">NASA's Mars Curiosity rover drove about 197 feet over the weekend to a site called Lake Orcadie, pushing its total odometry to over 12 miles.</div></div></div></li><li class=\"slide\"><div class=\"image_and_description_container\"><a href=\"/news/8383/the-mars-insight-landing-site-is-just-plain-perfect/\" target=\"_self\"><div class=\"rollover_description\"><div class=\"rollover_description_inner\">If the InSight landing zone were ice cream, it would be vanilla.</div><div class=\"overlay_arrow\"><img alt=\"More\" src=\"/assets/overlay-arrow.png\"/></div></div><div class=\"list_image\"><img alt=\"This artist’s concept depicts the smooth, flat ground that dominates InSight's landing ellipse in the Elysium Planitia region of Mars. \" src=\"/system/news_items/list_view_images/8383_PIA22743-320x240.jpg\"/></div><div class=\"bottom_gradient\"><div><h3>The Mars InSight Landing Site Is Just Plain Perfect</h3></div></div></a><div class=\"list_text\"><div class=\"list_date\">November  5, 2018</div><div class=\"content_title\"><a href=\"/news/8383/the-mars-insight-landing-site-is-just-plain-perfect/\" target=\"_self\">The Mars InSight Landing Site Is Just Plain Perfect</a></div><div class=\"article_teaser_body\">If the InSight landing zone were ice cream, it would be vanilla.</div></div></div></li><li class=\"slide\"><div class=\"image_and_description_container\"><a href=\"/news/8382/five-things-to-know-about-insights-mars-landing/\" target=\"_self\"><div class=\"rollover_description\"><div class=\"rollover_description_inner\">NASA engineers will be holding their breath when their spacecraft heads into Mars' atmosphere on Nov. 26.</div><div class=\"overlay_arrow\"><img alt=\"More\" src=\"/assets/overlay-arrow.png\"/></div></div><div class=\"list_image\"><img alt=\"This is an illustration showing a simulated view of NASA's InSight lander about to land on the surface of Mars. This view shows the underside of the spacecraft\" src=\"/system/news_items/list_view_images/8382_22097_PIA22812-320x240.jpg\"/></div><div class=\"bottom_gradient\"><div><h3>Five Things to Know About InSight's Mars Landing</h3></div></div></a><div class=\"list_text\"><div class=\"list_date\">October 31, 2018</div><div class=\"content_title\"><a href=\"/news/8382/five-things-to-know-about-insights-mars-landing/\" target=\"_self\">Five Things to Know About InSight's Mars Landing</a></div><div class=\"article_teaser_body\">NASA engineers will be holding their breath when their spacecraft heads into Mars' atmosphere on Nov. 26.</div></div></div></li><li class=\"slide\"><div class=\"image_and_description_container\"><a href=\"/news/8381/nasa-launches-a-new-podcast-to-mars/\" target=\"_self\"><div class=\"rollover_description\"><div class=\"rollover_description_inner\">NASA's new eight-episode series 'On a Mission' follows the InSight spacecraft on its journey to Mars and details the extraordinary challenges of landing on the Red Planet.</div><div class=\"overlay_arrow\"><img alt=\"More\" src=\"/assets/overlay-arrow.png\"/></div></div><div class=\"list_image\"><img alt='A new NASA podcast \"On a Mission\"' src=\"/system/news_items/list_view_images/8381_On_A_Mission_Podcast_Logo-320x240.jpg\"/></div><div class=\"bottom_gradient\"><div><h3>NASA Launches a New Podcast to Mars</h3></div></div></a><div class=\"list_text\"><div class=\"list_date\">October 29, 2018</div><div class=\"content_title\"><a href=\"/news/8381/nasa-launches-a-new-podcast-to-mars/\" target=\"_self\">NASA Launches a New Podcast to Mars</a></div><div class=\"article_teaser_body\">NASA's new eight-episode series 'On a Mission' follows the InSight spacecraft on its journey to Mars and details the extraordinary challenges of landing on the Red Planet.</div></div></div></li><li class=\"slide\"><div class=\"image_and_description_container\"><a href=\"/news/8364/update-on-opportunity-rover-recovery-efforts/\" target=\"_self\"><div class=\"rollover_description\"><div class=\"rollover_description_inner\">After a review of the progress of the listening campaign, NASA will continue its current strategy for attempting to make contact with the Opportunity rover for the foreseeable future.</div><div class=\"overlay_arrow\"><img alt=\"More\" src=\"/assets/overlay-arrow.png\"/></div></div><div class=\"list_image\"><img alt=\"This June 2017 view from the Pancam on NASA's Opportunity Mars rover shows the area just above &quot;Perseverance Valley&quot; on a large crater's rim. A broad notch in the crest of the rim, at right, might have been a spillway for a fluid that carved the valley, out of sight on the other side of the rim.\" src=\"/system/news_items/list_view_images/8364_PIA21723-16bth.jpg\"/></div><div class=\"bottom_gradient\"><div><h3>Update on Opportunity Rover Recovery Efforts</h3></div></div></a><div class=\"list_text\"><div class=\"list_date\">October 29, 2018</div><div class=\"content_title\"><a href=\"/news/8364/update-on-opportunity-rover-recovery-efforts/\" target=\"_self\">Update on Opportunity Rover Recovery Efforts</a></div><div class=\"article_teaser_body\">After a review of the progress of the listening campaign, NASA will continue its current strategy for attempting to make contact with the Opportunity rover for the foreseeable future.</div></div></div></li><li class=\"slide\"><div class=\"image_and_description_container\"><a href=\"/news/8380/third-aspire-test-confirms-mars-2020-parachute-a-go/\" target=\"_self\"><div class=\"rollover_description\"><div class=\"rollover_description_inner\">The supersonic parachute that will handle the heaviest payload yet to the Red Planet – Mars 2020 rover – passes its final sounding rocket test with flying colors.</div><div class=\"overlay_arrow\"><img alt=\"More\" src=\"/assets/overlay-arrow.png\"/></div></div><div class=\"list_image\"><img alt=\"\" src=\"/system/news_items/list_view_images/8380_parachute-16-th.jpg\"/></div><div class=\"bottom_gradient\"><div><h3>Third ASPIRE Test Confirms Mars 2020 Parachute a Go</h3></div></div></a><div class=\"list_text\"><div class=\"list_date\">October 26, 2018</div><div class=\"content_title\"><a href=\"/news/8380/third-aspire-test-confirms-mars-2020-parachute-a-go/\" target=\"_self\">Third ASPIRE Test Confirms Mars 2020 Parachute a Go</a></div><div class=\"article_teaser_body\">The supersonic parachute that will handle the heaviest payload yet to the Red Planet – Mars 2020 rover – passes its final sounding rocket test with flying colors.</div></div></div></li><li class=\"slide\"><div class=\"image_and_description_container\"><a href=\"/news/8379/nasa-to-host-briefing-on-november-mars-insight-landing/\" target=\"_self\"><div class=\"rollover_description\"><div class=\"rollover_description_inner\">A briefing on NASA's upcoming InSight Mars landing will air on Wed. Oct. 31 at 1:30 p.m. EDT (10:30 a.m. PDT) on NASA TV, the agency's website and NASA InSight Facebook Page.</div><div class=\"overlay_arrow\"><img alt=\"More\" src=\"/assets/overlay-arrow.png\"/></div></div><div class=\"list_image\"><img alt=\"An artist illustration of the InSight lander on Mars.\" src=\"/system/news_items/list_view_images/8379_insight-impression-320x240.jpg\"/></div><div class=\"bottom_gradient\"><div><h3>NASA to Host Briefing on November Mars InSight Landing</h3></div></div></a><div class=\"list_text\"><div class=\"list_date\">October 25, 2018</div><div class=\"content_title\"><a href=\"/news/8379/nasa-to-host-briefing-on-november-mars-insight-landing/\" target=\"_self\">NASA to Host Briefing on November Mars InSight Landing</a></div><div class=\"article_teaser_body\">A briefing on NASA's upcoming InSight Mars landing will air on Wed. Oct. 31 at 1:30 p.m. EDT (10:30 a.m. PDT) on NASA TV, the agency's website and NASA InSight Facebook Page.</div></div></div></li><li class=\"slide\"><div class=\"image_and_description_container\"><a href=\"/news/8378/nasas-insight-will-study-mars-while-standing-still/\" target=\"_self\"><div class=\"rollover_description\"><div class=\"rollover_description_inner\">The lander's unique science can teach us how planets are born.</div><div class=\"overlay_arrow\"><img alt=\"More\" src=\"/assets/overlay-arrow.png\"/></div></div><div class=\"list_image\"><img alt=\"This artist's concept depicts NASA's InSight lander after it has deployed its instruments on the Martian surface.\" src=\"/system/news_items/list_view_images/8378_PIA22743-320x240.jpg\"/></div><div class=\"bottom_gradient\"><div><h3>NASA's InSight Will Study Mars While Standing Still</h3></div></div></a><div class=\"list_text\"><div class=\"list_date\">October 24, 2018</div><div class=\"content_title\"><a href=\"/news/8378/nasas-insight-will-study-mars-while-standing-still/\" target=\"_self\">NASA's InSight Will Study Mars While Standing Still</a></div><div class=\"article_teaser_body\">The lander's unique science can teach us how planets are born.</div></div></div></li><li class=\"slide\"><div class=\"image_and_description_container\"><a href=\"/news/8377/nasas-first-image-of-mars-from-a-cubesat/\" target=\"_self\"><div class=\"rollover_description\"><div class=\"rollover_description_inner\">The image was produced by one of the twin briefcase-sized MarCO spacecraft, the first CubeSats to fly to deep space.</div><div class=\"overlay_arrow\"><img alt=\"More\" src=\"/assets/overlay-arrow.png\"/></div></div><div class=\"list_image\"><img alt=\"One of the twin MarCO CubeSats snapped this image of Mars on Oct. 3 – the first image of the Red Planet ever produced by this class of tiny, low-cost spacecraft.\" src=\"/system/news_items/list_view_images/8377_PIA22742_320.jpg\"/></div><div class=\"bottom_gradient\"><div><h3>NASA's First Image of Mars from a CubeSat</h3></div></div></a><div class=\"list_text\"><div class=\"list_date\">October 22, 2018</div><div class=\"content_title\"><a href=\"/news/8377/nasas-first-image-of-mars-from-a-cubesat/\" target=\"_self\">NASA's First Image of Mars from a CubeSat</a></div><div class=\"article_teaser_body\">The image was produced by one of the twin briefcase-sized MarCO spacecraft, the first CubeSats to fly to deep space.</div></div></div></li><li class=\"slide\"><div class=\"image_and_description_container\"><a href=\"/news/8375/the-claw-game-on-mars-nasa-insight-plays-to-win/\" target=\"_self\"><div class=\"rollover_description\"><div class=\"rollover_description_inner\">NASA's InSight lander will be the first mission to use a robotic arm to grasp instruments from the spacecraft and place them on the surface of another planet. </div><div class=\"overlay_arrow\"><img alt=\"More\" src=\"/assets/overlay-arrow.png\"/></div></div><div class=\"list_image\"><img alt=\"NASA’s InSight mission tests an engineering version of the spacecraft’s robotic arm in a Mars-like environment at NASA’s Jet Propulsion Laboratory. \" src=\"/system/news_items/list_view_images/8375_PIA22806-320.jpg\"/></div><div class=\"bottom_gradient\"><div><h3>The 'Claw Game' on Mars: NASA InSight Plays to Win</h3></div></div></a><div class=\"list_text\"><div class=\"list_date\">October 16, 2018</div><div class=\"content_title\"><a href=\"/news/8375/the-claw-game-on-mars-nasa-insight-plays-to-win/\" target=\"_self\">The 'Claw Game' on Mars: NASA InSight Plays to Win</a></div><div class=\"article_teaser_body\">NASA's InSight lander will be the first mission to use a robotic arm to grasp instruments from the spacecraft and place them on the surface of another planet. </div></div></div></li><li class=\"slide\"><div class=\"image_and_description_container\"><a href=\"/news/8376/scientists-to-debate-landing-site-for-next-mars-rover/\" target=\"_self\"><div class=\"rollover_description\"><div class=\"rollover_description_inner\">Hundreds of scientists and Mars-exploration enthusiasts gather this week to present, discuss and deliberate the future landing site for NASA's next Red Planet. </div><div class=\"overlay_arrow\"><img alt=\"More\" src=\"/assets/overlay-arrow.png\"/></div></div><div class=\"list_image\"><img alt=\"This artist's rendition depicts NASA's Mars 2020 rover studying a Mars rock outrcrop.\" src=\"/system/news_items/list_view_images/8376_PIA22105-320x240.jpg\"/></div><div class=\"bottom_gradient\"><div><h3>Scientists to Debate Landing Site for Next Mars Rover</h3></div></div></a><div class=\"list_text\"><div class=\"list_date\">October 15, 2018</div><div class=\"content_title\"><a href=\"/news/8376/scientists-to-debate-landing-site-for-next-mars-rover/\" target=\"_self\">Scientists to Debate Landing Site for Next Mars Rover</a></div><div class=\"article_teaser_body\">Hundreds of scientists and Mars-exploration enthusiasts gather this week to present, discuss and deliberate the future landing site for NASA's next Red Planet. </div></div></div></li><li class=\"slide\"><div class=\"image_and_description_container\"><a href=\"/news/8374/mars-virtual-reality-software-wins-nasa-award/\" target=\"_self\"><div class=\"rollover_description\"><div class=\"rollover_description_inner\">A mixed-reality software that allows scientists and engineers to virtually walk on Mars has received NASA's 2018 Software of the Year Award.</div><div class=\"overlay_arrow\"><img alt=\"More\" src=\"/assets/overlay-arrow.png\"/></div></div><div class=\"list_image\"><img alt=\"This is an image of Apollo 11 astronaut Buzz Aldrin and Erisa Hines of NASA's Jet Propulsion Laboratory trying out the Microsoft HoloLens mixed reality headset during a preview of &quot;Destination: Mars&quot; at Kennedy Space Center visitor complex in Florida. \" src=\"/system/news_items/list_view_images/8374_onsight20181002-16_320x240.jpg\"/></div><div class=\"bottom_gradient\"><div><h3>Mars Virtual Reality Software Wins NASA Award</h3></div></div></a><div class=\"list_text\"><div class=\"list_date\">October 10, 2018</div><div class=\"content_title\"><a href=\"/news/8374/mars-virtual-reality-software-wins-nasa-award/\" target=\"_self\">Mars Virtual Reality Software Wins NASA Award</a></div><div class=\"article_teaser_body\">A mixed-reality software that allows scientists and engineers to virtually walk on Mars has received NASA's 2018 Software of the Year Award.</div></div></div></li><li class=\"slide\"><div class=\"image_and_description_container\"><a href=\"/news/8373/painting-cars-for-mars/\" target=\"_self\"><div class=\"rollover_description\"><div class=\"rollover_description_inner\">What does NASA do to get a rover ready for Mars? JPL's paint shop does a thousand different paint jobs a year. And while every piece of spacecraft that comes through the shop is important, one headed for the Red Planet adds a little extra oomph.</div><div class=\"overlay_arrow\"><img alt=\"More\" src=\"/assets/overlay-arrow.png\"/></div></div><div class=\"list_image\"><img alt=\"\" src=\"/system/news_items/list_view_images/8373_mars20181004-320.jpg\"/></div><div class=\"bottom_gradient\"><div><h3>Painting Cars for Mars</h3></div></div></a><div class=\"list_text\"><div class=\"list_date\">October  9, 2018</div><div class=\"content_title\"><a href=\"/news/8373/painting-cars-for-mars/\" target=\"_self\">Painting Cars for Mars</a></div><div class=\"article_teaser_body\">What does NASA do to get a rover ready for Mars? JPL's paint shop does a thousand different paint jobs a year. And while every piece of spacecraft that comes through the shop is important, one headed for the Red Planet adds a little extra oomph.</div></div></div></li><li class=\"slide\"><div class=\"image_and_description_container\"><a href=\"/news/8370/opportunity-emerges-in-a-dusty-picture/\" target=\"_self\"><div class=\"rollover_description\"><div class=\"rollover_description_inner\">NASA still hasn't heard from the Opportunity rover, but at least the agency can see it again.</div><div class=\"overlay_arrow\"><img alt=\"More\" src=\"/assets/overlay-arrow.png\"/></div></div><div class=\"list_image\"><img alt=\"\" src=\"/system/news_items/list_view_images/8370_Oppy-box-320x260.jpg\"/></div><div class=\"bottom_gradient\"><div><h3>Opportunity Emerges in a Dusty Picture</h3></div></div></a><div class=\"list_text\"><div class=\"list_date\">September 25, 2018</div><div class=\"content_title\"><a href=\"/news/8370/opportunity-emerges-in-a-dusty-picture/\" target=\"_self\">Opportunity Emerges in a Dusty Picture</a></div><div class=\"article_teaser_body\">NASA still hasn't heard from the Opportunity rover, but at least the agency can see it again.</div></div></div></li></ul><footer class=\"list_footer more_button\"><div class=\"loading\"></div><a class=\"button\" href=\"#\" type=\"button\">More</a></footer></div></section></div>\n",
      "</article>\n",
      "</div>\n",
      "</div>\n",
      "<section class=\"module suggested_features\">\n",
      "<div class=\"grid_layout\">\n",
      "<header>\n",
      "<h2 class=\"module_title\">You Might Also Like</h2>\n",
      "</header>\n",
      "<section>\n",
      "<script>\n",
      "  $(document).ready(function(){\n",
      "    $(\".features\").slick({\n",
      "      dots: false,\n",
      "      infinite: true,\n",
      "      speed: 300,\n",
      "      slide: '.features .slide',\n",
      "      slidesToShow: 3,\n",
      "      slidesToScroll: 3,\n",
      "      lazyLoad: 'ondemand',\n",
      "      centerMode: false,\n",
      "      arrows: true,\n",
      "      appendArrows: '.features .slick-nav',\n",
      "      appendDots: \".features .slick-nav\",\n",
      "      responsive: [{\"breakpoint\":953,\"settings\":{\"slidesToShow\":2,\"slidesToScroll\":2,\"centerMode\":false}},{\"breakpoint\":480,\"settings\":{\"slidesToShow\":1,\"slidesToScroll\":1,\"centerMode\":true,\"arrows\":false,\"centerPadding\":\"25px\"}}]\n",
      "    });\n",
      "  });\n",
      "</script>\n",
      "<div class=\"features slick-initialized slick-slider\">\n",
      "<div class=\"slick-list draggable\" tabindex=\"0\"><div class=\"slick-track\" style=\"opacity: 1; width: 2740px; transform: translate3d(-548px, 0px, 0px);\"><div class=\"slide slick-slide slick-cloned\" index=\"-2\" style=\"width: 262px;\">\n",
      "<div class=\"image_and_description_container\">\n",
      "<a href=\"/news/8326/nasa-invests-in-visionary-technology/\">\n",
      "<div class=\"rollover_description\">\n",
      "<div class=\"rollover_description_inner\">\n",
      "NASA is investing in technology concepts, including several from JPL, that may one day be used for future space exploration missions.\n",
      "</div>\n",
      "<div class=\"overlay_arrow\">\n",
      "<img alt=\"More\" src=\"/assets/overlay-arrow.png\"/>\n",
      "</div>\n",
      "</div>\n",
      "<img alt=\"NASA Invests in Visionary Technology \" class=\"img-lazy\" data-lazy=\"/system/news_items/list_view_images/8326_niac320.jpg\" src=\"/assets/loading_320x240.png\"/>\n",
      "</a>\n",
      "</div>\n",
      "<div class=\"content_title\">\n",
      "<a href=\"/news/8326/nasa-invests-in-visionary-technology/\">\n",
      "NASA Invests in Visionary Technology \n",
      "</a>\n",
      "</div>\n",
      "</div><div class=\"slide slick-slide slick-cloned\" index=\"-1\" style=\"width: 262px;\">\n",
      "<div class=\"image_and_description_container\">\n",
      "<a href=\"/news/8325/nasa-is-ready-to-study-the-heart-of-mars/\">\n",
      "<div class=\"rollover_description\">\n",
      "<div class=\"rollover_description_inner\">\n",
      "NASA is about to go on a journey to study the center of Mars.\n",
      "</div>\n",
      "<div class=\"overlay_arrow\">\n",
      "<img alt=\"More\" src=\"/assets/overlay-arrow.png\"/>\n",
      "</div>\n",
      "</div>\n",
      "<img alt=\"NASA is Ready to Study the Heart of Mars\" class=\"img-lazy\" data-lazy=\"/system/news_items/list_view_images/8325_insight20180329b_320.jpg\" src=\"/assets/loading_320x240.png\"/>\n",
      "</a>\n",
      "</div>\n",
      "<div class=\"content_title\">\n",
      "<a href=\"/news/8325/nasa-is-ready-to-study-the-heart-of-mars/\">\n",
      "NASA is Ready to Study the Heart of Mars\n",
      "</a>\n",
      "</div>\n",
      "</div><div class=\"slide slick-slide slick-active\" index=\"0\" style=\"width: 262px;\">\n",
      "<div class=\"image_and_description_container\">\n",
      "<a href=\"/news/8402/nasas-insight-places-first-instrument-on-mars/\">\n",
      "<div class=\"rollover_description\">\n",
      "<div class=\"rollover_description_inner\">\n",
      "In deploying its first instrument onto the surface of Mars, the lander completes a major mission milestone.\n",
      "</div>\n",
      "<div class=\"overlay_arrow\">\n",
      "<img alt=\"More\" src=\"/assets/overlay-arrow.png\"/>\n",
      "</div>\n",
      "</div>\n",
      "<img alt=\"NASA's InSight Places First Instrument on Mars\" class=\"img-lazy\" src=\"/system/news_items/list_view_images/8402_PIA22977_SEIS_deploy_IDC_calibrated-th.gif?1549936354178\" style=\"opacity: 1;\"/>\n",
      "</a>\n",
      "</div>\n",
      "<div class=\"content_title\">\n",
      "<a href=\"/news/8402/nasas-insight-places-first-instrument-on-mars/\">\n",
      "NASA's InSight Places First Instrument on Mars\n",
      "</a>\n",
      "</div>\n",
      "</div><div class=\"slide slick-slide slick-active\" index=\"1\" style=\"width: 262px;\">\n",
      "<div class=\"image_and_description_container\">\n",
      "<a href=\"/news/8387/nasa-announces-landing-site-for-mars-2020-rover/\">\n",
      "<div class=\"rollover_description\">\n",
      "<div class=\"rollover_description_inner\">\n",
      "After a five-year search, NASA has chosen Jezero Crater as the landing site for its upcoming Mars 2020 rover mission.\n",
      "</div>\n",
      "<div class=\"overlay_arrow\">\n",
      "<img alt=\"More\" src=\"/assets/overlay-arrow.png\"/>\n",
      "</div>\n",
      "</div>\n",
      "<img alt=\"NASA Announces Landing Site for Mars 2020 Rover\" class=\"img-lazy\" src=\"/system/news_items/list_view_images/8387_JezeroCrater-320x240.jpg?1549936354180\" style=\"opacity: 1;\"/>\n",
      "</a>\n",
      "</div>\n",
      "<div class=\"content_title\">\n",
      "<a href=\"/news/8387/nasa-announces-landing-site-for-mars-2020-rover/\">\n",
      "NASA Announces Landing Site for Mars 2020 Rover\n",
      "</a>\n",
      "</div>\n",
      "</div><div class=\"slide slick-slide\" index=\"2\" style=\"width: 262px;\">\n",
      "<div class=\"image_and_description_container\">\n",
      "<a href=\"/news/8348/opportunity-hunkers-down-during-dust-storm/\">\n",
      "<div class=\"rollover_description\">\n",
      "<div class=\"rollover_description_inner\">\n",
      "It's the beginning of the end for the planet-encircling dust storm on Mars. But it could still be weeks, or even months, before skies are clear enough for NASA's Opportunity rover to recharge its batteries and phone home. \n",
      "</div>\n",
      "<div class=\"overlay_arrow\">\n",
      "<img alt=\"More\" src=\"/assets/overlay-arrow.png\"/>\n",
      "</div>\n",
      "</div>\n",
      "<img alt=\"Opportunity Hunkers Down During Dust Storm\" class=\"img-lazy\" src=\"/system/news_items/list_view_images/8348_PIA22521-320.jpg?1549936354180\" style=\"opacity: 1;\"/>\n",
      "</a>\n",
      "</div>\n",
      "<div class=\"content_title\">\n",
      "<a href=\"/news/8348/opportunity-hunkers-down-during-dust-storm/\">\n",
      "Opportunity Hunkers Down During Dust Storm\n",
      "</a>\n",
      "</div>\n",
      "</div><div class=\"slide slick-slide\" index=\"3\" style=\"width: 262px;\">\n",
      "<div class=\"image_and_description_container\">\n",
      "<a href=\"/news/8347/nasa-finds-ancient-organic-material-mysterious-methane-on-mars/\">\n",
      "<div class=\"rollover_description\">\n",
      "<div class=\"rollover_description_inner\">\n",
      "NASA’s Curiosity rover has found evidence on Mars with implications for NASA’s search for life.\n",
      "</div>\n",
      "<div class=\"overlay_arrow\">\n",
      "<img alt=\"More\" src=\"/assets/overlay-arrow.png\"/>\n",
      "</div>\n",
      "</div>\n",
      "<img alt=\"NASA Finds Ancient Organic Material, Mysterious Methane on Mars\" class=\"img-lazy\" data-lazy=\"/system/news_items/list_view_images/8347_curiosity_methane-320.jpg\" src=\"/assets/loading_320x240.png\"/>\n",
      "</a>\n",
      "</div>\n",
      "<div class=\"content_title\">\n",
      "<a href=\"/news/8347/nasa-finds-ancient-organic-material-mysterious-methane-on-mars/\">\n",
      "NASA Finds Ancient Organic Material, Mysterious Methane on Mars\n",
      "</a>\n",
      "</div>\n",
      "</div><div class=\"slide slick-slide\" index=\"4\" style=\"width: 262px;\">\n",
      "<div class=\"image_and_description_container\">\n",
      "<a href=\"/news/8326/nasa-invests-in-visionary-technology/\">\n",
      "<div class=\"rollover_description\">\n",
      "<div class=\"rollover_description_inner\">\n",
      "NASA is investing in technology concepts, including several from JPL, that may one day be used for future space exploration missions.\n",
      "</div>\n",
      "<div class=\"overlay_arrow\">\n",
      "<img alt=\"More\" src=\"/assets/overlay-arrow.png\"/>\n",
      "</div>\n",
      "</div>\n",
      "<img alt=\"NASA Invests in Visionary Technology \" class=\"img-lazy\" data-lazy=\"/system/news_items/list_view_images/8326_niac320.jpg\" src=\"/assets/loading_320x240.png\"/>\n",
      "</a>\n",
      "</div>\n",
      "<div class=\"content_title\">\n",
      "<a href=\"/news/8326/nasa-invests-in-visionary-technology/\">\n",
      "NASA Invests in Visionary Technology \n",
      "</a>\n",
      "</div>\n",
      "</div><div class=\"slide slick-slide\" index=\"5\" style=\"width: 262px;\">\n",
      "<div class=\"image_and_description_container\">\n",
      "<a href=\"/news/8325/nasa-is-ready-to-study-the-heart-of-mars/\">\n",
      "<div class=\"rollover_description\">\n",
      "<div class=\"rollover_description_inner\">\n",
      "NASA is about to go on a journey to study the center of Mars.\n",
      "</div>\n",
      "<div class=\"overlay_arrow\">\n",
      "<img alt=\"More\" src=\"/assets/overlay-arrow.png\"/>\n",
      "</div>\n",
      "</div>\n",
      "<img alt=\"NASA is Ready to Study the Heart of Mars\" class=\"img-lazy\" data-lazy=\"/system/news_items/list_view_images/8325_insight20180329b_320.jpg\" src=\"/assets/loading_320x240.png\"/>\n",
      "</a>\n",
      "</div>\n",
      "<div class=\"content_title\">\n",
      "<a href=\"/news/8325/nasa-is-ready-to-study-the-heart-of-mars/\">\n",
      "NASA is Ready to Study the Heart of Mars\n",
      "</a>\n",
      "</div>\n",
      "</div><div class=\"slide slick-slide slick-cloned\" index=\"6\" style=\"width: 262px;\">\n",
      "<div class=\"image_and_description_container\">\n",
      "<a href=\"/news/8402/nasas-insight-places-first-instrument-on-mars/\">\n",
      "<div class=\"rollover_description\">\n",
      "<div class=\"rollover_description_inner\">\n",
      "In deploying its first instrument onto the surface of Mars, the lander completes a major mission milestone.\n",
      "</div>\n",
      "<div class=\"overlay_arrow\">\n",
      "<img alt=\"More\" src=\"/assets/overlay-arrow.png\"/>\n",
      "</div>\n",
      "</div>\n",
      "<img alt=\"NASA's InSight Places First Instrument on Mars\" class=\"img-lazy\" src=\"/system/news_items/list_view_images/8402_PIA22977_SEIS_deploy_IDC_calibrated-th.gif?1549936354178\" style=\"opacity: 1;\"/>\n",
      "</a>\n",
      "</div>\n",
      "<div class=\"content_title\">\n",
      "<a href=\"/news/8402/nasas-insight-places-first-instrument-on-mars/\">\n",
      "NASA's InSight Places First Instrument on Mars\n",
      "</a>\n",
      "</div>\n",
      "</div><div class=\"slide slick-slide slick-cloned\" index=\"7\" style=\"width: 262px;\">\n",
      "<div class=\"image_and_description_container\">\n",
      "<a href=\"/news/8387/nasa-announces-landing-site-for-mars-2020-rover/\">\n",
      "<div class=\"rollover_description\">\n",
      "<div class=\"rollover_description_inner\">\n",
      "After a five-year search, NASA has chosen Jezero Crater as the landing site for its upcoming Mars 2020 rover mission.\n",
      "</div>\n",
      "<div class=\"overlay_arrow\">\n",
      "<img alt=\"More\" src=\"/assets/overlay-arrow.png\"/>\n",
      "</div>\n",
      "</div>\n",
      "<img alt=\"NASA Announces Landing Site for Mars 2020 Rover\" class=\"img-lazy\" src=\"/system/news_items/list_view_images/8387_JezeroCrater-320x240.jpg?1549936354180\" style=\"opacity: 1;\"/>\n",
      "</a>\n",
      "</div>\n",
      "<div class=\"content_title\">\n",
      "<a href=\"/news/8387/nasa-announces-landing-site-for-mars-2020-rover/\">\n",
      "NASA Announces Landing Site for Mars 2020 Rover\n",
      "</a>\n",
      "</div>\n",
      "</div></div></div>\n",
      "<div class=\"grid_layout\">\n",
      "<div class=\"slick-nav_container\">\n",
      "<div class=\"slick-nav\"><button class=\"slick-prev\" data-role=\"none\" style=\"display: block;\" type=\"button\">Previous</button><button class=\"slick-next\" data-role=\"none\" style=\"display: block;\" type=\"button\">Next</button></div>\n",
      "</div>\n",
      "</div>\n",
      "</div>\n",
      "</section>\n",
      "</div>\n",
      "</section>\n",
      "</div>\n",
      "<footer id=\"site_footer\">\n",
      "<div class=\"grid_layout\">\n",
      "<section class=\"upper_footer\">\n",
      "<div class=\"share\">\n",
      "<h2>Follow the Journey</h2>\n",
      "<div class=\"social_icons\">\n",
      "<!-- AddThis Button BEGIN -->\n",
      "<div class=\"addthis_toolbox addthis_default_style addthis_32x32_style\"><a addthis:userid=\"NASABeAMartian\" class=\"addthis_button_twitter_follow icon at300b\" href=\"//twitter.com/NASABeAMartian\" target=\"_blank\" title=\"Follow on Twitter\">\n",
      "<img alt=\"twitter\" src=\"/assets/twitter_icon@2x.png\"/>\n",
      "<span class=\"addthis_follow_label\">Twitter</span></a><a addthis:userid=\"NASABEAM\" class=\"addthis_button_facebook_follow icon at300b\" href=\"http://www.facebook.com/NASABEAM\" target=\"_blank\" title=\"Follow on Facebook\">\n",
      "<img alt=\"facebook\" src=\"/assets/facebook_icon@2x.png\"/>\n",
      "<span class=\"addthis_follow_label\">Facebook</span></a><a addthis:userid=\"nasa\" class=\"addthis_button_instagram_follow icon at300b\" href=\"http://instagram.com/nasa\" target=\"_blank\" title=\"Follow on Instagram\">\n",
      "<img alt=\"instagram\" src=\"/assets/instagram_icon@2x.png\"/>\n",
      "<span class=\"addthis_follow_label\">Instagram</span></a><a addthis:url=\"https://mars.nasa.gov/rss/api/?feed=news&amp;category=all&amp;feedtype=rss\" class=\"addthis_button_rss_follow icon at300b\" href=\"https://mars.nasa.gov/rss/api/?feed=news&amp;category=all&amp;feedtype=rss\" target=\"_blank\" title=\"Follow on RSS\">\n",
      "<img alt=\"rss\" src=\"/assets/rss_icon@2x.png\"/>\n",
      "<span class=\"addthis_follow_label\">RSS</span></a><div class=\"atclear\"></div></div>\n",
      "</div>\n",
      "<script>\n",
      "  addthis_loader.init(\"//s7.addthis.com/js/300/addthis_widget.js#pubid=ra-5a690e4c1320e328\", {follow: true})\n",
      "  \n",
      "  // AddThis Button END\n",
      "</script>\n",
      "</div>\n",
      "<div class=\"gradient_line\"></div>\n",
      "</section>\n",
      "<section class=\"sitemap\">\n",
      "<div class=\"sitemap_directory\" id=\"sitemap_directory\" style=\"position: relative; height: 279.125px;\">\n",
      "<div class=\"sitemap_block\" style=\"position: absolute; left: 0px; top: 0px;\">\n",
      "<div class=\"footer_sitemap_item\">\n",
      "<h3 class=\"sitemap_title\">\n",
      "<a href=\"/#red_planet\">The Red Planet</a>\n",
      "</h3>\n",
      "<ul><li>\n",
      "<div class=\"global_subnav_container\">\n",
      "<ul class=\"subnav\">\n",
      "<li>\n",
      "<a href=\"/#red_planet/0\" target=\"_self\">Dashboard</a>\n",
      "</li>\n",
      "<li>\n",
      "<a href=\"/#red_planet/1\" target=\"_self\">Science Goals</a>\n",
      "</li>\n",
      "<li>\n",
      "<a href=\"/#red_planet/2\" target=\"_self\">The Planet</a>\n",
      "</li>\n",
      "<li>\n",
      "<a href=\"/#red_planet/3\" target=\"_self\">Atmosphere</a>\n",
      "</li>\n",
      "<li>\n",
      "<a href=\"/#red_planet/4\" target=\"_self\">Astrobiology</a>\n",
      "</li>\n",
      "<li>\n",
      "<a href=\"/#red_planet/5\" target=\"_self\">Past, Present, Future, Timeline</a>\n",
      "</li>\n",
      "</ul>\n",
      "</div>\n",
      "</li></ul>\n",
      "</div>\n",
      "</div>\n",
      "<div class=\"sitemap_block\" style=\"position: absolute; left: 152px; top: 0px;\">\n",
      "<div class=\"footer_sitemap_item\">\n",
      "<h3 class=\"sitemap_title\">\n",
      "<a href=\"/#mars_exploration_program\">The Program</a>\n",
      "</h3>\n",
      "<ul><li>\n",
      "<div class=\"global_subnav_container\">\n",
      "<ul class=\"subnav\">\n",
      "<li>\n",
      "<a href=\"/#mars_exploration_program/0\" target=\"_self\">Mission Statement</a>\n",
      "</li>\n",
      "<li>\n",
      "<a href=\"/#mars_exploration_program/1\" target=\"_self\">About the Program</a>\n",
      "</li>\n",
      "<li>\n",
      "<a href=\"/#mars_exploration_program/2\" target=\"_self\">Organization</a>\n",
      "</li>\n",
      "<li>\n",
      "<a href=\"/#mars_exploration_program/3\" target=\"_self\">Why Mars?</a>\n",
      "</li>\n",
      "<li>\n",
      "<a href=\"/#mars_exploration_program/4\" target=\"_self\">Research Programs</a>\n",
      "</li>\n",
      "<li>\n",
      "<a href=\"/#mars_exploration_program/5\" target=\"_self\">Planetary Resources</a>\n",
      "</li>\n",
      "<li>\n",
      "<a href=\"/#mars_exploration_program/6\" target=\"_self\">Technologies</a>\n",
      "</li>\n",
      "</ul>\n",
      "</div>\n",
      "</li></ul>\n",
      "</div>\n",
      "</div>\n",
      "<div class=\"sitemap_block\" style=\"position: absolute; left: 304px; top: 0px;\">\n",
      "<div class=\"footer_sitemap_item\">\n",
      "<h3 class=\"sitemap_title\">\n",
      "<a href=\"/#news_and_events\">News &amp; Events</a>\n",
      "</h3>\n",
      "<ul><li>\n",
      "<div class=\"global_subnav_container\">\n",
      "<ul class=\"subnav\">\n",
      "<li class=\"current\">\n",
      "<a href=\"/news\" target=\"_self\">News</a>\n",
      "</li>\n",
      "<li>\n",
      "<a href=\"/events\" target=\"_self\">Events</a>\n",
      "</li>\n",
      "</ul>\n",
      "</div>\n",
      "</li></ul>\n",
      "</div>\n",
      "</div>\n",
      "<div class=\"sitemap_block\" style=\"position: absolute; left: 456px; top: 0px;\">\n",
      "<div class=\"footer_sitemap_item\">\n",
      "<h3 class=\"sitemap_title\">\n",
      "<a href=\"/#multimedia\">Multimedia</a>\n",
      "</h3>\n",
      "<ul><li>\n",
      "<div class=\"global_subnav_container\">\n",
      "<ul class=\"subnav\">\n",
      "<li>\n",
      "<a href=\"/multimedia/images/\" target=\"_self\">Images</a>\n",
      "</li>\n",
      "<li>\n",
      "<a href=\"/multimedia/videos/\" target=\"_self\">Videos</a>\n",
      "</li>\n",
      "</ul>\n",
      "</div>\n",
      "</li></ul>\n",
      "</div>\n",
      "</div>\n",
      "<div class=\"sitemap_block\" style=\"position: absolute; left: 304px; top: 104px;\">\n",
      "<div class=\"footer_sitemap_item\">\n",
      "<h3 class=\"sitemap_title\">\n",
      "<a href=\"/#missions\">Missions</a>\n",
      "</h3>\n",
      "<ul><li>\n",
      "<div class=\"global_subnav_container\">\n",
      "<ul class=\"subnav\">\n",
      "<li>\n",
      "<a href=\"/mars-exploration/missions/?category=167\" target=\"_self\">Past</a>\n",
      "</li>\n",
      "<li>\n",
      "<a href=\"/mars-exploration/missions/?category=170\" target=\"_self\">Present</a>\n",
      "</li>\n",
      "<li>\n",
      "<a href=\"/mars-exploration/missions/?category=171\" target=\"_self\">Future</a>\n",
      "</li>\n",
      "<li>\n",
      "<a href=\"/mars-exploration/partners\" target=\"_self\">International Partners</a>\n",
      "</li>\n",
      "</ul>\n",
      "</div>\n",
      "</li></ul>\n",
      "</div>\n",
      "</div>\n",
      "<div class=\"sitemap_block\" style=\"position: absolute; left: 456px; top: 104px;\">\n",
      "<div class=\"footer_sitemap_item\">\n",
      "<h3 class=\"sitemap_title\">\n",
      "<a href=\"/#more\">More</a>\n",
      "</h3>\n",
      "<ul><li>\n",
      "<div class=\"global_subnav_container\">\n",
      "<ul class=\"subnav\">\n",
      "</ul>\n",
      "</div>\n",
      "</li></ul>\n",
      "</div>\n",
      "</div>\n",
      "<div class=\"sitemap_block\" style=\"position: absolute; left: 456px; top: 155px;\">\n",
      "<div class=\"footer_sitemap_item\">\n",
      "<h3 class=\"sitemap_title\">\n",
      "<a href=\"/legacy\">Legacy Site</a>\n",
      "</h3>\n",
      "<ul><li>\n",
      "<div class=\"global_subnav_container\">\n",
      "<ul class=\"subnav\">\n",
      "<li>\n",
      "<a class=\"\" href=\"/legacy\" target=\"_self\">Legacy Site</a>\n",
      "</li>\n",
      "</ul>\n",
      "</div>\n",
      "</li></ul>\n",
      "</div>\n",
      "</div>\n",
      "</div>\n",
      "<div class=\"gradient_line\"></div>\n",
      "</section>\n",
      "<section class=\"lower_footer\">\n",
      "<div class=\"nav_container\">\n",
      "<nav>\n",
      "<ul>\n",
      "<li>\n",
      "<a href=\"http://science.nasa.gov/\" target=\"_blank\">NASA Science Mission Directorate</a>\n",
      "</li>\n",
      "<li>\n",
      "<a href=\"https://www.jpl.nasa.gov/copyrights.php\" target=\"_blank\">Privacy</a>\n",
      "</li>\n",
      "<li>\n",
      "<a href=\"http://www.jpl.nasa.gov/imagepolicy/\" target=\"_blank\">Image Policy</a>\n",
      "</li>\n",
      "<li>\n",
      "<a href=\"https://mars.nasa.gov/feedback/\" target=\"_self\">Feedback</a>\n",
      "</li>\n",
      "<li>\n",
      "<a href=\"http://mars.nasa.gov/legacy\" target=\"_blank\">Legacy Mars Site</a>\n",
      "</li>\n",
      "</ul>\n",
      "</nav>\n",
      "</div>\n",
      "<div class=\"credits\">\n",
      "<div class=\"footer_brands_top\">\n",
      "<p>Managed by the Mars Exploration Program and the Jet Propulsion Laboratory for NASA’s Science Mission Directorate</p>\n",
      "</div>\n",
      "<!-- .footer_brands -->\n",
      "<!-- %a.jpl{href: \"\", target: \"_blank\"}Institution -->\n",
      "<!-- -->\n",
      "<!-- %a.caltech{href: \"\", target: \"_blank\"}Institution -->\n",
      "<!-- .staff -->\n",
      "<!-- %p -->\n",
      "<!-- - get_staff_for_category(get_field_from_admin_config(:web_staff_category_id)) -->\n",
      "<!-- - @staff.each_with_index do |staff, idx| -->\n",
      "<!-- - unless staff.is_in_footer == 0 -->\n",
      "<!-- = staff.title + \": \" -->\n",
      "<!-- - if staff.contact_link =~ /@/ -->\n",
      "<!-- = mail_to staff.contact_link, staff.name, :subject => \"[#{@site_title}]\" -->\n",
      "<!-- - elsif staff.contact_link.present? -->\n",
      "<!-- = link_to staff.name, staff.contact_link -->\n",
      "<!-- - else -->\n",
      "<!-- = staff.name -->\n",
      "<!-- - unless (idx + 1 == @staff.size) -->\n",
      "<!-- %br -->\n",
      "</div>\n",
      "</section>\n",
      "</div>\n",
      "</footer>\n",
      "</div>\n",
      "</div>\n",
      "<script id=\"_fed_an_ua_tag\" src=\"https://dap.digitalgov.gov/Universal-Federated-Analytics-Min.js?agency=NASA&amp;subagency=JPL-Mars-MEPJPL&amp;pua=UA-9453474-9,UA-118212757-11&amp;dclink=true&amp;sp=searchbox&amp;exts=tif,tiff,wav\" type=\"text/javascript\"></script>\n",
      "<div id=\"_atssh\" style=\"visibility: hidden; height: 1px; width: 1px; position: absolute; top: -9999px; z-index: 100000;\"><iframe id=\"_atssh393\" src=\"https://s7.addthis.com/static/sh.e4e8af4de595fdb10ec1459d.html#rand=0.8411806782018478&amp;iit=1549936356502&amp;tmr=load%3D1549936354802%26core%3D1549936354903%26main%3D1549936356465%26ifr%3D1549936356519&amp;cb=0&amp;cdn=0&amp;md=0&amp;kw=Mars%2Cmissions%2CNASA%2Crover%2CCuriosity%2COpportunity%2CInSight%2CMars%20Reconnaissance%20Orbiter%2Cfacts&amp;ab=-&amp;dh=mars.nasa.gov&amp;dr=&amp;du=https%3A%2F%2Fmars.nasa.gov%2Fnews%2F%3Fpage%3D0%26per_page%3D40%26order%3Dpublish_date%2Bdesc%252Ccreated_at%2Bdesc%26search%3D%26category%3D19%252C165%252C184%252C204%26blank_scope%3DLatest&amp;href=https%3A%2F%2Fmars.nasa.gov%2Fnews%2F&amp;dt=News%20%20%E2%80%93%20NASA%E2%80%99s%20Mars%20Exploration%20Program&amp;dbg=0&amp;cap=tc%3D0%26ab%3D0&amp;inst=1&amp;jsl=1&amp;prod=undefined&amp;lng=en&amp;ogt=image%2Cupdated_time%2Ctype%3Darticle%2Curl%2Ctitle%2Cdescription%2Csite_name&amp;pc=men&amp;pub=ra-5a690e4c1320e328&amp;ssl=1&amp;sid=5c6226e2239aef23&amp;srf=0.01&amp;ver=300&amp;xck=1&amp;xtr=0&amp;og=site_name%3DNASA%25E2%2580%2599s%2520Mars%2520Exploration%2520Program%26description%3DNASA%25E2%2580%2599s%2520real-time%2520portal%2520for%2520Mars%2520exploration%252C%2520featuring%2520the%2520latest%2520news%252C%2520images%252C%2520and%2520discoveries%2520from%2520the%2520Red%2520Planet.%26title%3DNews%2520%2520%25E2%2580%2593%2520NASA%25E2%2580%2599s%2520Mars%2520Exploration%2520Program%26url%3Dhttps%253A%252F%252Fmars.nasa.gov%252Fnews%26type%3Darticle%26updated_time%3D2017-09-22%252019%253A53%253A22%2520UTC%26image%3D&amp;csi=undefined&amp;rev=v8.3.38-wp&amp;ct=1&amp;xld=1&amp;xd=1\" style=\"height: 1px; width: 1px; position: absolute; top: 0px; z-index: 100000; border: 0px; left: 0px;\" title=\"AddThis utility frame\"></iframe></div><style id=\"service-icons-0\"></style><div aria-labelledby=\"at4-share-label\" class=\"addthis-smartlayers addthis-smartlayers-desktop\" role=\"region\"><div id=\"at4-share-label\">AddThis Sharing Sidebar</div><div class=\"at4-share addthis_32x32_style atss atss-left addthis-animated slideInLeft\" id=\"at4-share\"><a class=\"at-share-btn at-svc-facebook\" role=\"button\" tabindex=\"1\"><span class=\"at4-visually-hidden\">Share to Facebook</span><span class=\"at-icon-wrapper\" style=\"background-color: rgb(59, 89, 152);\"><svg aria-labelledby=\"at-svg-facebook-1\" class=\"at-icon at-icon-facebook\" role=\"img\" style=\"fill: rgb(255, 255, 255);\" version=\"1.1\" viewbox=\"0 0 32 32\" xmlns=\"http://www.w3.org/2000/svg\" xmlns:xlink=\"http://www.w3.org/1999/xlink\"><title id=\"at-svg-facebook-1\" xmlns=\"http://www.w3.org/1999/xhtml\">Facebook</title><g><path d=\"M22 5.16c-.406-.054-1.806-.16-3.43-.16-3.4 0-5.733 1.825-5.733 5.17v2.882H9v3.913h3.837V27h4.604V16.965h3.823l.587-3.913h-4.41v-2.5c0-1.123.347-1.903 2.198-1.903H22V5.16z\" fill-rule=\"evenodd\"></path></g></svg></span></a><a class=\"at-share-btn at-svc-twitter\" role=\"button\" tabindex=\"1\"><span class=\"at4-visually-hidden\">Share to Twitter</span><span class=\"at-icon-wrapper\" style=\"background-color: rgb(29, 161, 242);\"><svg aria-labelledby=\"at-svg-twitter-2\" class=\"at-icon at-icon-twitter\" role=\"img\" style=\"fill: rgb(255, 255, 255);\" version=\"1.1\" viewbox=\"0 0 32 32\" xmlns=\"http://www.w3.org/2000/svg\" xmlns:xlink=\"http://www.w3.org/1999/xlink\"><title id=\"at-svg-twitter-2\" xmlns=\"http://www.w3.org/1999/xhtml\">Twitter</title><g><path d=\"M27.996 10.116c-.81.36-1.68.602-2.592.71a4.526 4.526 0 0 0 1.984-2.496 9.037 9.037 0 0 1-2.866 1.095 4.513 4.513 0 0 0-7.69 4.116 12.81 12.81 0 0 1-9.3-4.715 4.49 4.49 0 0 0-.612 2.27 4.51 4.51 0 0 0 2.008 3.755 4.495 4.495 0 0 1-2.044-.564v.057a4.515 4.515 0 0 0 3.62 4.425 4.52 4.52 0 0 1-2.04.077 4.517 4.517 0 0 0 4.217 3.134 9.055 9.055 0 0 1-5.604 1.93A9.18 9.18 0 0 1 6 23.85a12.773 12.773 0 0 0 6.918 2.027c8.3 0 12.84-6.876 12.84-12.84 0-.195-.005-.39-.014-.583a9.172 9.172 0 0 0 2.252-2.336\" fill-rule=\"evenodd\"></path></g></svg></span></a><a class=\"at-share-btn at-svc-reddit\" role=\"button\" tabindex=\"1\"><span class=\"at4-visually-hidden\">Share to Reddit</span><span class=\"at-icon-wrapper\" style=\"background-color: rgb(255, 87, 0);\"><svg aria-labelledby=\"at-svg-reddit-3\" class=\"at-icon at-icon-reddit\" role=\"img\" style=\"fill: rgb(255, 255, 255);\" version=\"1.1\" viewbox=\"0 0 32 32\" xmlns=\"http://www.w3.org/2000/svg\" xmlns:xlink=\"http://www.w3.org/1999/xlink\"><title id=\"at-svg-reddit-3\" xmlns=\"http://www.w3.org/1999/xhtml\">Reddit</title><g><path d=\"M27 15.5a2.452 2.452 0 0 1-1.338 2.21c.098.38.147.777.147 1.19 0 1.283-.437 2.47-1.308 3.563-.872 1.092-2.06 1.955-3.567 2.588-1.506.634-3.143.95-4.91.95-1.768 0-3.403-.316-4.905-.95-1.502-.632-2.69-1.495-3.56-2.587-.872-1.092-1.308-2.28-1.308-3.562 0-.388.045-.777.135-1.166a2.47 2.47 0 0 1-1.006-.912c-.253-.4-.38-.842-.38-1.322 0-.678.237-1.26.712-1.744a2.334 2.334 0 0 1 1.73-.726c.697 0 1.29.26 1.78.782 1.785-1.258 3.893-1.928 6.324-2.01l1.424-6.467a.42.42 0 0 1 .184-.26.4.4 0 0 1 .32-.063l4.53 1.006c.147-.306.368-.553.662-.74a1.78 1.78 0 0 1 .97-.278c.508 0 .94.18 1.302.54.36.36.54.796.54 1.31 0 .512-.18.95-.54 1.315-.36.364-.794.546-1.302.546-.507 0-.94-.18-1.295-.54a1.793 1.793 0 0 1-.533-1.308l-4.1-.92-1.277 5.86c2.455.074 4.58.736 6.37 1.985a2.315 2.315 0 0 1 1.757-.757c.68 0 1.256.242 1.73.726.476.484.713 1.066.713 1.744zm-16.868 2.47c0 .513.178.95.534 1.315.356.365.787.547 1.295.547.508 0 .942-.182 1.302-.547.36-.364.54-.802.54-1.315 0-.513-.18-.95-.54-1.31-.36-.36-.794-.54-1.3-.54-.5 0-.93.183-1.29.547a1.79 1.79 0 0 0-.54 1.303zm9.944 4.406c.09-.09.135-.2.135-.323a.444.444 0 0 0-.44-.447c-.124 0-.23.042-.32.124-.336.348-.83.605-1.486.77a7.99 7.99 0 0 1-1.964.248 7.99 7.99 0 0 1-1.964-.248c-.655-.165-1.15-.422-1.486-.77a.456.456 0 0 0-.32-.124.414.414 0 0 0-.306.124.41.41 0 0 0-.135.317.45.45 0 0 0 .134.33c.352.355.837.636 1.455.843.617.207 1.118.33 1.503.366a11.6 11.6 0 0 0 1.117.056c.36 0 .733-.02 1.117-.056.385-.037.886-.16 1.504-.366.62-.207 1.104-.488 1.456-.844zm-.037-2.544c.507 0 .938-.182 1.294-.547.356-.364.534-.802.534-1.315 0-.505-.18-.94-.54-1.303a1.75 1.75 0 0 0-1.29-.546c-.506 0-.94.18-1.3.54-.36.36-.54.797-.54 1.31s.18.95.54 1.315c.36.365.794.547 1.3.547z\" fill-rule=\"evenodd\"></path></g></svg></span></a><a class=\"at-share-btn at-svc-email\" role=\"button\" tabindex=\"1\"><span class=\"at4-visually-hidden\">Share to Email</span><span class=\"at-icon-wrapper\" style=\"background-color: rgb(132, 132, 132);\"><svg aria-labelledby=\"at-svg-email-4\" class=\"at-icon at-icon-email\" role=\"img\" style=\"fill: rgb(255, 255, 255);\" version=\"1.1\" viewbox=\"0 0 32 32\" xmlns=\"http://www.w3.org/2000/svg\" xmlns:xlink=\"http://www.w3.org/1999/xlink\"><title id=\"at-svg-email-4\" xmlns=\"http://www.w3.org/1999/xhtml\">Email</title><g><g fill-rule=\"evenodd\"></g><path d=\"M27 22.757c0 1.24-.988 2.243-2.19 2.243H7.19C5.98 25 5 23.994 5 22.757V13.67c0-.556.39-.773.855-.496l8.78 5.238c.782.467 1.95.467 2.73 0l8.78-5.238c.472-.28.855-.063.855.495v9.087z\"></path><path d=\"M27 9.243C27 8.006 26.02 7 24.81 7H7.19C5.988 7 5 8.004 5 9.243v.465c0 .554.385 1.232.857 1.514l9.61 5.733c.267.16.8.16 1.067 0l9.61-5.733c.473-.283.856-.96.856-1.514v-.465z\"></path></g></svg></span></a><a class=\"at-share-btn at-svc-compact\" role=\"button\" tabindex=\"1\"><span class=\"at4-visually-hidden\">More AddThis Share options</span><span class=\"at-icon-wrapper\" style=\"background-color: rgb(255, 101, 80);\"><svg aria-labelledby=\"at-svg-addthis-5\" class=\"at-icon at-icon-addthis\" role=\"img\" style=\"fill: rgb(255, 255, 255);\" version=\"1.1\" viewbox=\"0 0 32 32\" xmlns=\"http://www.w3.org/2000/svg\" xmlns:xlink=\"http://www.w3.org/1999/xlink\"><title id=\"at-svg-addthis-5\" xmlns=\"http://www.w3.org/1999/xhtml\">AddThis</title><g><path d=\"M18 14V8h-4v6H8v4h6v6h4v-6h6v-4h-6z\" fill-rule=\"evenodd\"></path></g></svg></span></a><div class=\"at-custom-sidebar-counter\" style=\"width: 48px; overflow-wrap: break-word;\"><div class=\"at-custom-sidebar-count\" style=\"color: rgb(34, 34, 34);\">138</div><div class=\"at-custom-sidebar-text\" style=\"color: rgb(34, 34, 34);\">SHARES</div></div><div class=\"at-share-close-control ats-transparent at4-hide-content at4-show\" id=\"at4-scc\" title=\"Hide\"><div class=\"at4-arrow at-left\">Hide</div></div></div><div class=\"at-share-open-control at-share-open-control-left ats-transparent at4-hide\" id=\"at4-soc\" title=\"Show\"><div class=\"at4-arrow at-right\">Show</div></div></div><div aria-labelledby=\"at-thankyou-label\" class=\"at4-thankyou at4-thankyou-background at4-hide ats-transparent at4-thankyou-desktop addthis-smartlayers addthis-animated fadeIn at4-show\" id=\"at4-thankyou\" role=\"dialog\"><div class=\"at4lb-inner\"><button class=\"at4x\" title=\"Close\">Close</button><a id=\"at4-palogo\"><div><a class=\"at-branding-logo\" href=\"//www.addthis.com/website-tools/overview?utm_source=AddThis%20Tools&amp;utm_medium=image\" target=\"_blank\" title=\"Powered by AddThis\"><div class=\"at-branding-icon\"></div><span class=\"at-branding-addthis\">AddThis</span></a></div></a><div class=\"at4-thankyou-inner\"><div class=\"thankyou-title\" id=\"at-thankyou-label\"></div><div class=\"thankyou-description\"></div><div class=\"at4-thankyou-layer\"></div></div></div></div><div aria-labelledby=\"at-share-dock-label\" class=\"at-share-dock-outer at4-hide addthis-smartlayers at4-visually-hidden addthis-smartlayers-mobile\" role=\"region\"><div class=\"at4-hide\" id=\"at-share-dock-label\">AddThis Sharing</div><div class=\"at-share-dock atss atss-bottom at-shfs-small addthis-animated slideInUp at4-show at4-hide\" id=\"at-share-dock\"><a class=\"at4-count\" href=\"#\" style=\"width: 16.6667%;\"><span class=\"at4-counter\"></span><span class=\"at4-share-label\">SHARES</span></a><a class=\"at-share-btn at-svc-facebook\" role=\"button\" style=\"width: 16.6667%;\" tabindex=\"1\" title=\"Facebook\"><span class=\"at-icon-wrapper\" style=\"background-color: rgb(59, 89, 152);\"><svg alt=\"Facebook\" aria-labelledby=\"at-svg-facebook-6\" class=\"at-icon at-icon-facebook\" role=\"img\" style=\"fill: rgb(255, 255, 255); width: 24px; height: 24px;\" title=\"Facebook\" version=\"1.1\" viewbox=\"0 0 32 32\" xmlns=\"http://www.w3.org/2000/svg\" xmlns:xlink=\"http://www.w3.org/1999/xlink\"><title id=\"at-svg-facebook-6\" xmlns=\"http://www.w3.org/1999/xhtml\">Facebook</title><g><path d=\"M22 5.16c-.406-.054-1.806-.16-3.43-.16-3.4 0-5.733 1.825-5.733 5.17v2.882H9v3.913h3.837V27h4.604V16.965h3.823l.587-3.913h-4.41v-2.5c0-1.123.347-1.903 2.198-1.903H22V5.16z\" fill-rule=\"evenodd\"></path></g></svg></span></a><a class=\"at-share-btn at-svc-twitter\" role=\"button\" style=\"width: 16.6667%;\" tabindex=\"1\" title=\"Twitter\"><span class=\"at-icon-wrapper\" style=\"background-color: rgb(29, 161, 242);\"><svg alt=\"Twitter\" aria-labelledby=\"at-svg-twitter-7\" class=\"at-icon at-icon-twitter\" role=\"img\" style=\"fill: rgb(255, 255, 255); width: 24px; height: 24px;\" title=\"Twitter\" version=\"1.1\" viewbox=\"0 0 32 32\" xmlns=\"http://www.w3.org/2000/svg\" xmlns:xlink=\"http://www.w3.org/1999/xlink\"><title id=\"at-svg-twitter-7\" xmlns=\"http://www.w3.org/1999/xhtml\">Twitter</title><g><path d=\"M27.996 10.116c-.81.36-1.68.602-2.592.71a4.526 4.526 0 0 0 1.984-2.496 9.037 9.037 0 0 1-2.866 1.095 4.513 4.513 0 0 0-7.69 4.116 12.81 12.81 0 0 1-9.3-4.715 4.49 4.49 0 0 0-.612 2.27 4.51 4.51 0 0 0 2.008 3.755 4.495 4.495 0 0 1-2.044-.564v.057a4.515 4.515 0 0 0 3.62 4.425 4.52 4.52 0 0 1-2.04.077 4.517 4.517 0 0 0 4.217 3.134 9.055 9.055 0 0 1-5.604 1.93A9.18 9.18 0 0 1 6 23.85a12.773 12.773 0 0 0 6.918 2.027c8.3 0 12.84-6.876 12.84-12.84 0-.195-.005-.39-.014-.583a9.172 9.172 0 0 0 2.252-2.336\" fill-rule=\"evenodd\"></path></g></svg></span></a><a class=\"at-share-btn at-svc-reddit\" role=\"button\" style=\"width: 16.6667%;\" tabindex=\"1\" title=\"Reddit\"><span class=\"at-icon-wrapper\" style=\"background-color: rgb(255, 87, 0);\"><svg alt=\"Reddit\" aria-labelledby=\"at-svg-reddit-8\" class=\"at-icon at-icon-reddit\" role=\"img\" style=\"fill: rgb(255, 255, 255); width: 24px; height: 24px;\" title=\"Reddit\" version=\"1.1\" viewbox=\"0 0 32 32\" xmlns=\"http://www.w3.org/2000/svg\" xmlns:xlink=\"http://www.w3.org/1999/xlink\"><title id=\"at-svg-reddit-8\" xmlns=\"http://www.w3.org/1999/xhtml\">Reddit</title><g><path d=\"M27 15.5a2.452 2.452 0 0 1-1.338 2.21c.098.38.147.777.147 1.19 0 1.283-.437 2.47-1.308 3.563-.872 1.092-2.06 1.955-3.567 2.588-1.506.634-3.143.95-4.91.95-1.768 0-3.403-.316-4.905-.95-1.502-.632-2.69-1.495-3.56-2.587-.872-1.092-1.308-2.28-1.308-3.562 0-.388.045-.777.135-1.166a2.47 2.47 0 0 1-1.006-.912c-.253-.4-.38-.842-.38-1.322 0-.678.237-1.26.712-1.744a2.334 2.334 0 0 1 1.73-.726c.697 0 1.29.26 1.78.782 1.785-1.258 3.893-1.928 6.324-2.01l1.424-6.467a.42.42 0 0 1 .184-.26.4.4 0 0 1 .32-.063l4.53 1.006c.147-.306.368-.553.662-.74a1.78 1.78 0 0 1 .97-.278c.508 0 .94.18 1.302.54.36.36.54.796.54 1.31 0 .512-.18.95-.54 1.315-.36.364-.794.546-1.302.546-.507 0-.94-.18-1.295-.54a1.793 1.793 0 0 1-.533-1.308l-4.1-.92-1.277 5.86c2.455.074 4.58.736 6.37 1.985a2.315 2.315 0 0 1 1.757-.757c.68 0 1.256.242 1.73.726.476.484.713 1.066.713 1.744zm-16.868 2.47c0 .513.178.95.534 1.315.356.365.787.547 1.295.547.508 0 .942-.182 1.302-.547.36-.364.54-.802.54-1.315 0-.513-.18-.95-.54-1.31-.36-.36-.794-.54-1.3-.54-.5 0-.93.183-1.29.547a1.79 1.79 0 0 0-.54 1.303zm9.944 4.406c.09-.09.135-.2.135-.323a.444.444 0 0 0-.44-.447c-.124 0-.23.042-.32.124-.336.348-.83.605-1.486.77a7.99 7.99 0 0 1-1.964.248 7.99 7.99 0 0 1-1.964-.248c-.655-.165-1.15-.422-1.486-.77a.456.456 0 0 0-.32-.124.414.414 0 0 0-.306.124.41.41 0 0 0-.135.317.45.45 0 0 0 .134.33c.352.355.837.636 1.455.843.617.207 1.118.33 1.503.366a11.6 11.6 0 0 0 1.117.056c.36 0 .733-.02 1.117-.056.385-.037.886-.16 1.504-.366.62-.207 1.104-.488 1.456-.844zm-.037-2.544c.507 0 .938-.182 1.294-.547.356-.364.534-.802.534-1.315 0-.505-.18-.94-.54-1.303a1.75 1.75 0 0 0-1.29-.546c-.506 0-.94.18-1.3.54-.36.36-.54.797-.54 1.31s.18.95.54 1.315c.36.365.794.547 1.3.547z\" fill-rule=\"evenodd\"></path></g></svg></span></a><a class=\"at-share-btn at-svc-email\" role=\"button\" style=\"width: 16.6667%;\" tabindex=\"1\" title=\"Email\"><span class=\"at-icon-wrapper\" style=\"background-color: rgb(132, 132, 132);\"><svg alt=\"Email\" aria-labelledby=\"at-svg-email-9\" class=\"at-icon at-icon-email\" role=\"img\" style=\"fill: rgb(255, 255, 255); width: 24px; height: 24px;\" title=\"Email\" version=\"1.1\" viewbox=\"0 0 32 32\" xmlns=\"http://www.w3.org/2000/svg\" xmlns:xlink=\"http://www.w3.org/1999/xlink\"><title id=\"at-svg-email-9\" xmlns=\"http://www.w3.org/1999/xhtml\">Email</title><g><g fill-rule=\"evenodd\"></g><path d=\"M27 22.757c0 1.24-.988 2.243-2.19 2.243H7.19C5.98 25 5 23.994 5 22.757V13.67c0-.556.39-.773.855-.496l8.78 5.238c.782.467 1.95.467 2.73 0l8.78-5.238c.472-.28.855-.063.855.495v9.087z\"></path><path d=\"M27 9.243C27 8.006 26.02 7 24.81 7H7.19C5.988 7 5 8.004 5 9.243v.465c0 .554.385 1.232.857 1.514l9.61 5.733c.267.16.8.16 1.067 0l9.61-5.733c.473-.283.856-.96.856-1.514v-.465z\"></path></g></svg></span></a><a class=\"at-share-btn at-svc-compact\" role=\"button\" style=\"width: 16.6667%;\" tabindex=\"1\" title=\"More\"><span class=\"at-icon-wrapper\" style=\"background-color: rgb(255, 101, 80);\"><svg alt=\"More\" aria-labelledby=\"at-svg-addthis-10\" class=\"at-icon at-icon-addthis\" role=\"img\" style=\"fill: rgb(255, 255, 255); width: 24px; height: 24px;\" title=\"More\" version=\"1.1\" viewbox=\"0 0 32 32\" xmlns=\"http://www.w3.org/2000/svg\" xmlns:xlink=\"http://www.w3.org/1999/xlink\"><title id=\"at-svg-addthis-10\" xmlns=\"http://www.w3.org/1999/xhtml\">AddThis</title><g><path d=\"M18 14V8h-4v6H8v4h6v6h4v-6h6v-4h-6z\" fill-rule=\"evenodd\"></path></g></svg></span></a></div></div></body>>\n"
     ]
    }
   ],
   "source": [
    "browser.quit()\n",
    "print(soup.body.prettify)"
   ]
  },
  {
   "cell_type": "code",
   "execution_count": 5,
   "metadata": {},
   "outputs": [
    {
     "name": "stdout",
     "output_type": "stream",
     "text": [
      "NASA's MAVEN Spacecraft Shrinking its Mars Orbit to Prepare for Mars 2020 Rover \n",
      "\n",
      "The MAVEN spacecraft today is starting a campaign to tighten its orbit around Mars to prepare to serve as a data-relay satellite for NASA’s Mars 2020 rover, which launches next year.\n"
     ]
    }
   ],
   "source": [
    "#page > div.grid_list_page.module.content_page > div > article > div > section > div > ul > li:nth-child(1) > div > div\n",
    "#print(soup.div.find('article_teaser'))\n",
    "\n",
    "# Take out the <div> of name and get its value\n",
    "article_title = soup.find(attrs={'class': 'content_title'}).text.strip()\n",
    "\n",
    "article_paragraph = soup.find(attrs={'class': 'article_teaser_body'}).text.strip()\n",
    "print(f'{article_title} \\n\\n{article_paragraph}')"
   ]
  },
  {
   "cell_type": "markdown",
   "metadata": {},
   "source": [
    "<hr>\n",
    "\n",
    "### Visit [The Jet Propulsion Laboratory's Homepage](https://www.jpl.nasa.gov/spaceimages/?search=&category=Mars)& extract the featured image <br>"
   ]
  },
  {
   "cell_type": "code",
   "execution_count": 12,
   "metadata": {},
   "outputs": [],
   "source": [
    "# Start @ JPL Homepage\n",
    "browser = Browser(\"chrome\", **executable_path, headless=False)\n",
    "jpl_home = \"https://www.jpl.nasa.gov\"\n",
    "image_thumb_url = jpl_home + \"/spaceimages/?search=&category=Mars\"\n",
    "browser.visit(image_thumb_url)"
   ]
  },
  {
   "cell_type": "code",
   "execution_count": 13,
   "metadata": {},
   "outputs": [
    {
     "ename": "NameError",
     "evalue": "name 'time' is not defined",
     "output_type": "error",
     "traceback": [
      "\u001b[0;31m---------------------------------------------------------------------------\u001b[0m",
      "\u001b[0;31mNameError\u001b[0m                                 Traceback (most recent call last)",
      "\u001b[0;32m<ipython-input-13-cae1c513a166>\u001b[0m in \u001b[0;36m<module>\u001b[0;34m\u001b[0m\n\u001b[1;32m      1\u001b[0m \u001b[0;31m# On JPL Homepage, automate clicking on 'FULL IMAGE' button;\u001b[0m\u001b[0;34m\u001b[0m\u001b[0;34m\u001b[0m\u001b[0;34m\u001b[0m\u001b[0m\n\u001b[0;32m----> 2\u001b[0;31m \u001b[0mtime\u001b[0m\u001b[0;34m.\u001b[0m\u001b[0msleep\u001b[0m\u001b[0;34m(\u001b[0m\u001b[0;36m3\u001b[0m\u001b[0;34m)\u001b[0m\u001b[0;34m\u001b[0m\u001b[0;34m\u001b[0m\u001b[0m\n\u001b[0m\u001b[1;32m      3\u001b[0m \u001b[0mxpath\u001b[0m\u001b[0;34m=\u001b[0m\u001b[0;34m'//*[@id=\"full_image\"]'\u001b[0m\u001b[0;34m\u001b[0m\u001b[0;34m\u001b[0m\u001b[0m\n\u001b[1;32m      4\u001b[0m \u001b[0mresults\u001b[0m \u001b[0;34m=\u001b[0m \u001b[0mbrowser\u001b[0m\u001b[0;34m.\u001b[0m\u001b[0mfind_by_xpath\u001b[0m\u001b[0;34m(\u001b[0m\u001b[0mxpath\u001b[0m\u001b[0;34m)\u001b[0m\u001b[0;34m\u001b[0m\u001b[0;34m\u001b[0m\u001b[0m\n\u001b[1;32m      5\u001b[0m \u001b[0mimg\u001b[0m \u001b[0;34m=\u001b[0m \u001b[0mresults\u001b[0m\u001b[0;34m[\u001b[0m\u001b[0;36m0\u001b[0m\u001b[0;34m]\u001b[0m\u001b[0;34m\u001b[0m\u001b[0;34m\u001b[0m\u001b[0m\n",
      "\u001b[0;31mNameError\u001b[0m: name 'time' is not defined"
     ]
    }
   ],
   "source": [
    "# On JPL Homepage, automate clicking on 'FULL IMAGE' button; \n",
    "time.sleep(3)\n",
    "xpath='//*[@id=\"full_image\"]'\n",
    "results = browser.find_by_xpath(xpath)\n",
    "img = results[0]\n",
    "img.click()"
   ]
  },
  {
   "cell_type": "code",
   "execution_count": 11,
   "metadata": {},
   "outputs": [
    {
     "name": "stdout",
     "output_type": "stream",
     "text": [
      "Now Safe to Run Next Cell\n",
      "https://www.jpl.nasa.gov\n"
     ]
    }
   ],
   "source": [
    "# On Full Image Page, automate clicking on 'more info' button; \n",
    "xpath = '//*[@id=\"fancybox-lock\"]/div/div[2]/div/div[1]/a[2]'\n",
    "results = browser.find_by_xpath(xpath)\n",
    "img = results[0]\n",
    "img.click()\n",
    "print(f'Now Safe to Run Next Cell\\n{jpl_home}')"
   ]
  },
  {
   "cell_type": "markdown",
   "metadata": {},
   "source": [
    "##### * warning * : wait for previous cell to complete"
   ]
  },
  {
   "cell_type": "code",
   "execution_count": null,
   "metadata": {},
   "outputs": [],
   "source": [
    "# goal: Parse more info page to find image url; \n",
    "html = browser.html\n",
    "soup = BeautifulSoup(html, 'html.parser')"
   ]
  },
  {
   "cell_type": "code",
   "execution_count": null,
   "metadata": {
    "scrolled": true
   },
   "outputs": [],
   "source": [
    "# Close Browser & Print BS object; \n",
    "browser.quit()\n",
    "print(soup.body.prettify())"
   ]
  },
  {
   "cell_type": "code",
   "execution_count": null,
   "metadata": {
    "scrolled": false
   },
   "outputs": [],
   "source": [
    "#HTML ABOVE INSPECTED & NARROWED DOWN\n",
    "#SELECTOR: page > section.content_page.module > div > article > figure > a\n",
    "img_rel_path = soup.figure.a['href']\n",
    "featured_img_url = jpl_home + img_rel_path\n",
    "print(f'The url for the featured image in full size is: {featured_img_url}')"
   ]
  },
  {
   "cell_type": "code",
   "execution_count": null,
   "metadata": {},
   "outputs": [],
   "source": [
    "# Download Copy of Image; \n",
    "img_path = 'Images/jpl_fullsize_image.jpg'\n",
    "response = requests.get(featured_img_url, stream=True)\n",
    "with open(img_path, 'wb') as out_file:\n",
    "    shutil.copyfileobj(response.raw, out_file)\n",
    "print(f'Image downloaded to: {img_path}')"
   ]
  },
  {
   "cell_type": "code",
   "execution_count": null,
   "metadata": {},
   "outputs": [],
   "source": [
    "# Display Downloaded Image\n",
    "Image(url='Images/jpl_fullsize_image.jpg')"
   ]
  },
  {
   "cell_type": "markdown",
   "metadata": {},
   "source": [
    "<hr>\n",
    "\n",
    "### Retrieve latest tweet from the [Mars Weather Report's feed](https://twitter.com/marswxreport)<br>"
   ]
  },
  {
   "cell_type": "code",
   "execution_count": null,
   "metadata": {},
   "outputs": [],
   "source": [
    "# Start @ Twitterfeed\n",
    "browser = Browser(\"chrome\", **executable_path, headless=False)\n",
    "mwr_twitter_home = \"https://twitter.com/marswxreport\"\n",
    "browser.visit(mwr_twitter_home)\n",
    "print(f'Now Safe to Run Next Cell\\n {mwr_twitter_home}')"
   ]
  },
  {
   "cell_type": "markdown",
   "metadata": {},
   "source": [
    "##### * warning * : wait for previous cell to complete"
   ]
  },
  {
   "cell_type": "markdown",
   "metadata": {},
   "source": [
    "###### Example:\n",
    "mars_weather = 'Sol 1801 (Aug 30, 2017), Sunny, high -21C/-5F, low -80C/-112F, pressure at 8.82 hPa, daylight 06:09-17:55'"
   ]
  },
  {
   "cell_type": "code",
   "execution_count": null,
   "metadata": {},
   "outputs": [],
   "source": [
    "# goal: Parse html to pinpoint contents of latest tweet; \n",
    "html = browser.html\n",
    "soup = BeautifulSoup(html, 'html.parser')"
   ]
  },
  {
   "cell_type": "code",
   "execution_count": null,
   "metadata": {},
   "outputs": [],
   "source": [
    "# Close Browser & Print BS object; \n",
    "browser.quit()\n",
    "print(soup.body.prettify())"
   ]
  },
  {
   "cell_type": "code",
   "execution_count": null,
   "metadata": {},
   "outputs": [],
   "source": [
    "#HTML ABOVE INSPECTED & NARROWED DOWN\n",
    "mars_weather = soup.find(attrs={'class': 'TweetTextSize'}).text.strip()\n",
    "print(f'the latest tweet: \\n{mars_weather}')"
   ]
  },
  {
   "cell_type": "markdown",
   "metadata": {},
   "source": [
    "<hr>\n",
    "\n",
    "### Retrieve the complete Mars table from the [Space Facts website](http://space-facts.com/mars/)<br>"
   ]
  },
  {
   "cell_type": "code",
   "execution_count": null,
   "metadata": {},
   "outputs": [],
   "source": [
    "# Start @ Space Facts Website\n",
    "browser = Browser(\"chrome\", **executable_path, headless=False)\n",
    "space_facts_home = \"https://space-facts.com/mars/\"\n",
    "browser.visit(space_facts_home)\n",
    "print(f'Now Safe to Run Next Cell\\n {space_facts_home}')"
   ]
  },
  {
   "cell_type": "markdown",
   "metadata": {},
   "source": [
    "##### * warning * : wait for previous cell to complete"
   ]
  },
  {
   "cell_type": "code",
   "execution_count": null,
   "metadata": {},
   "outputs": [],
   "source": [
    "# goal: use pandas to Parse & extract table; \n",
    "html = browser.html\n",
    "mars_table_df = pd.read_html(html)\n",
    "browser.quit()\n",
    "mars_table_df = mars_table_df[0]"
   ]
  },
  {
   "cell_type": "code",
   "execution_count": null,
   "metadata": {
    "scrolled": true
   },
   "outputs": [],
   "source": [
    "mars_table_df.columns = ['Attribute', 'Details']\n",
    "mars_table_df.set_index('Attribute', inplace=True)\n",
    "mars_table_df[:][:]"
   ]
  },
  {
   "cell_type": "code",
   "execution_count": null,
   "metadata": {},
   "outputs": [],
   "source": [
    "mars_table_df.to_html('mars_table.html'.replace('\\n', '')) #save df to html file & remove new line characters"
   ]
  },
  {
   "cell_type": "code",
   "execution_count": null,
   "metadata": {},
   "outputs": [],
   "source": [
    "# Display Downloaded Image\n",
    "from IPython.display import HTML\n",
    "display(HTML(filename='table.html'))\n",
    "\n",
    "#!open table.html"
   ]
  },
  {
   "cell_type": "markdown",
   "metadata": {},
   "source": [
    "<hr>\n",
    "\n",
    "### Retrieve images of Mars' four hemispheres from [the Astrogeology Science Center](https://astrogeology.usgs.gov/search/results?q=hemisphere+enhanced&k1=target&v1=Mars)<br>\n",
    "\n",
    "\n",
    "#### The Hemispheres are:\n",
    "    - Cerberus\n",
    "    - Schiaparelli\n",
    "    - Syrtis Major\n",
    "    - Valles Marineris"
   ]
  },
  {
   "cell_type": "markdown",
   "metadata": {},
   "source": [
    "<h3 align=center>Cerberus</h3>"
   ]
  },
  {
   "cell_type": "code",
   "execution_count": null,
   "metadata": {},
   "outputs": [],
   "source": [
    "# Start @ USGS homepage\n",
    "browser = Browser(\"chrome\", **executable_path, headless=False)\n",
    "asgeo_home = \"https://astrogeology.usgs.gov/search/results?q=hemisphere+enhanced&k1=target&v1=Mars\"\n",
    "browser.visit(asgeo_home)"
   ]
  },
  {
   "cell_type": "code",
   "execution_count": null,
   "metadata": {},
   "outputs": [],
   "source": [
    "# On automate clicking on 'Cereberus' image; \n",
    "xpath='//*[@id=\"product-section\"]/div[2]/div[1]/a/img'\n",
    "results = browser.find_by_xpath(xpath)\n",
    "img = results[0]\n",
    "img.click()"
   ]
  },
  {
   "cell_type": "code",
   "execution_count": null,
   "metadata": {},
   "outputs": [],
   "source": [
    "# goal: Parse html to pinpoint image url; \n",
    "html = browser.html\n",
    "soup = BeautifulSoup(html, 'html.parser')\n",
    "# go back to homepage (after copying html) & print html body; \n",
    "browser.back()\n",
    "# print(soup.body.prettify())"
   ]
  },
  {
   "cell_type": "code",
   "execution_count": null,
   "metadata": {},
   "outputs": [],
   "source": [
    "rows = soup.findAll('a')[42:43]\n",
    "rows"
   ]
  },
  {
   "cell_type": "code",
   "execution_count": null,
   "metadata": {
    "scrolled": false
   },
   "outputs": [],
   "source": [
    "cerberus_href = soup.find('a', text='Original').get('href')\n",
    "cerberus_href"
   ]
  },
  {
   "cell_type": "code",
   "execution_count": null,
   "metadata": {},
   "outputs": [],
   "source": [
    "# Download Copy of Image; \n",
    "img_path = 'Images/Cerberus_fullsize_image.tif'\n",
    "response = requests.get(cerberus_href, stream=True)\n",
    "with open(img_path, 'wb') as out_file:\n",
    "    shutil.copyfileobj(response.raw, out_file)\n",
    "print(f'Image downloaded to: {img_path}')"
   ]
  },
  {
   "cell_type": "markdown",
   "metadata": {},
   "source": [
    "<h3 align=center>Schiaparelli</h3>"
   ]
  },
  {
   "cell_type": "code",
   "execution_count": null,
   "metadata": {},
   "outputs": [],
   "source": [
    "# On automate clicking on 'Schiaparelli' image; \n",
    "xpath='//*[@id=\"product-section\"]/div[2]/div[2]/a/img'\n",
    "results = browser.find_by_xpath(xpath)\n",
    "img = results[0]\n",
    "img.click()"
   ]
  },
  {
   "cell_type": "code",
   "execution_count": null,
   "metadata": {},
   "outputs": [],
   "source": [
    "# goal: Parse Schiaparelli html to pinpoint image url; \n",
    "html = browser.html\n",
    "soup = BeautifulSoup(html, 'html.parser')\n",
    "# go back to homepage (after copying html) & print html body; \n",
    "browser.back()\n",
    "# print(soup.body.prettify())"
   ]
  },
  {
   "cell_type": "code",
   "execution_count": null,
   "metadata": {},
   "outputs": [],
   "source": [
    "rows = soup.findAll('a')[42:43]\n",
    "rows"
   ]
  },
  {
   "cell_type": "code",
   "execution_count": null,
   "metadata": {},
   "outputs": [],
   "source": [
    "Schiaparelli_href = soup.find('a', text='Original').get('href')\n",
    "Schiaparelli_href"
   ]
  },
  {
   "cell_type": "code",
   "execution_count": null,
   "metadata": {},
   "outputs": [],
   "source": [
    "# Download Copy of Image; \n",
    "img_path = 'Images/Schiaparelli_fullsize_image.tif'\n",
    "response = requests.get(Schiaparelli_href, stream=True)\n",
    "with open(img_path, 'wb') as out_file:\n",
    "    shutil.copyfileobj(response.raw, out_file)\n",
    "print(f'Image downloaded to: {img_path}')"
   ]
  },
  {
   "cell_type": "markdown",
   "metadata": {},
   "source": [
    "<h3 align=center>Syrtis Major</h3>"
   ]
  },
  {
   "cell_type": "code",
   "execution_count": null,
   "metadata": {},
   "outputs": [],
   "source": [
    "# On automate clicking on 'Syrtis Major' image; \n",
    "xpath='//*[@id=\"product-section\"]/div[2]/div[3]/a/img'\n",
    "results = browser.find_by_xpath(xpath)\n",
    "img = results[0]\n",
    "img.click()"
   ]
  },
  {
   "cell_type": "code",
   "execution_count": null,
   "metadata": {},
   "outputs": [],
   "source": [
    "# goal: Parse Syrtis Major html to pinpoint image url; \n",
    "html = browser.html\n",
    "soup = BeautifulSoup(html, 'html.parser')\n",
    "# go back to homepage (after copying html) & print html body; \n",
    "browser.back()\n",
    "# print(soup.body.prettify())"
   ]
  },
  {
   "cell_type": "code",
   "execution_count": null,
   "metadata": {},
   "outputs": [],
   "source": [
    "rows = soup.findAll('a')[42:43]\n",
    "rows"
   ]
  },
  {
   "cell_type": "code",
   "execution_count": null,
   "metadata": {},
   "outputs": [],
   "source": [
    "Syrtis_Major_href = soup.find('a', text='Original').get('href')\n",
    "Syrtis_Major_href"
   ]
  },
  {
   "cell_type": "code",
   "execution_count": null,
   "metadata": {},
   "outputs": [],
   "source": [
    "# Download Copy of Image; \n",
    "img_path = 'Images/Syrtis_Major_fullsize_image.tif'\n",
    "response = requests.get(Syrtis_Major_href, stream=True)\n",
    "with open(img_path, 'wb') as out_file:\n",
    "    shutil.copyfileobj(response.raw, out_file)\n",
    "print(f'Image downloaded to: {img_path}')"
   ]
  },
  {
   "cell_type": "markdown",
   "metadata": {},
   "source": [
    "<h3 align=center>Valles Marineris</h3>"
   ]
  },
  {
   "cell_type": "code",
   "execution_count": null,
   "metadata": {},
   "outputs": [],
   "source": [
    "# On automate clicking on 'Valles Marineris' image; \n",
    "xpath='//*[@id=\"product-section\"]/div[2]/div[4]/a/img'\n",
    "results = browser.find_by_xpath(xpath)\n",
    "img = results[0]\n",
    "img.click()"
   ]
  },
  {
   "cell_type": "code",
   "execution_count": null,
   "metadata": {},
   "outputs": [],
   "source": [
    "# goal: Parse Valles Marineris html to pinpoint image url; \n",
    "html = browser.html\n",
    "soup = BeautifulSoup(html, 'html.parser')\n",
    "# print html body; \n",
    "# print(soup.body.prettify())"
   ]
  },
  {
   "cell_type": "code",
   "execution_count": null,
   "metadata": {},
   "outputs": [],
   "source": [
    "soup.findAll('a')[42:43]"
   ]
  },
  {
   "cell_type": "code",
   "execution_count": null,
   "metadata": {},
   "outputs": [],
   "source": [
    "Valles_Marineris_href = soup.find('a', text='Original').get('href')\n",
    "Valles_Marineris_href"
   ]
  },
  {
   "cell_type": "code",
   "execution_count": null,
   "metadata": {},
   "outputs": [],
   "source": [
    "# Download Copy of Image; \n",
    "img_path = 'Images/Valles_Marineris_image.tif'\n",
    "response = requests.get(Valles_Marineris_href, stream=True)\n",
    "with open(img_path, 'wb') as out_file:\n",
    "    shutil.copyfileobj(response.raw, out_file)\n",
    "print(f'Image downloaded to: {img_path}')"
   ]
  },
  {
   "cell_type": "code",
   "execution_count": null,
   "metadata": {},
   "outputs": [],
   "source": [
    "hemisphere_image_urls = [\n",
    "    {\"title\": \"Valles Marineris Hemisphere\", \"img_url\": Valles_Marineris_href},\n",
    "    {\"title\": \"Cerberus Hemisphere\", \"img_url\": cerberus_href},\n",
    "    {\"title\": \"Schiaparelli Hemisphere\", \"img_url\": Schiaparelli_href},\n",
    "    {\"title\": \"Syrtis Major Hemisphere\", \"img_url\": Syrtis_Major_href},\n",
    "]"
   ]
  },
  {
   "cell_type": "code",
   "execution_count": null,
   "metadata": {},
   "outputs": [],
   "source": [
    "browser.quit()"
   ]
  },
  {
   "cell_type": "code",
   "execution_count": null,
   "metadata": {},
   "outputs": [],
   "source": []
  },
  {
   "cell_type": "code",
   "execution_count": null,
   "metadata": {},
   "outputs": [],
   "source": []
  },
  {
   "cell_type": "code",
   "execution_count": null,
   "metadata": {},
   "outputs": [],
   "source": []
  },
  {
   "cell_type": "code",
   "execution_count": null,
   "metadata": {},
   "outputs": [],
   "source": []
  },
  {
   "cell_type": "code",
   "execution_count": null,
   "metadata": {},
   "outputs": [],
   "source": []
  },
  {
   "cell_type": "code",
   "execution_count": null,
   "metadata": {},
   "outputs": [],
   "source": [
    "Step 2 - MongoDB and Flask Application\n",
    "Use MongoDB with Flask templating to create a new HTML page that displays all of the information that was \n",
    "scraped from the URLs above.\n",
    "\n",
    "Start by converting your Jupyter notebook into a Python script called scrape_mars.py with a function called \n",
    "scrape that will execute all of your scraping code from above and return one Python dictionary containing \n",
    "all of the scraped data.\n",
    "\n",
    "Next, create a route called /scrape that will import your scrape_mars.py script and call your scrape function.\n",
    "\n",
    "Store the return value in Mongo as a Python dictionary.\n",
    "Create a root route / that will query your Mongo database and pass the mars data into an HTML template to \n",
    "display the data.\n",
    "\n",
    "Create a template HTML file called index.html that will take the mars data dictionary and display all of \n",
    "the data in the appropriate HTML elements. Use the following as a guide for what the final product should look \n",
    "like, but feel free to create your own design."
   ]
  },
  {
   "cell_type": "code",
   "execution_count": null,
   "metadata": {},
   "outputs": [],
   "source": []
  },
  {
   "cell_type": "code",
   "execution_count": null,
   "metadata": {},
   "outputs": [],
   "source": []
  },
  {
   "cell_type": "code",
   "execution_count": null,
   "metadata": {},
   "outputs": [],
   "source": [
    "Step 3 - Submission\n",
    "To submit your work to BootCampSpot, create a new GitHub repository and upload the following:\n",
    "\n",
    "The Jupyter Notebook containing the scraping code used.\n",
    "Screenshots of your final application.\n"
   ]
  },
  {
   "cell_type": "code",
   "execution_count": null,
   "metadata": {},
   "outputs": [],
   "source": [
    "Use Pymongo for CRUD: Create, Read, Update, Delete applications for your database. "
   ]
  },
  {
   "cell_type": "code",
   "execution_count": null,
   "metadata": {},
   "outputs": [],
   "source": []
  },
  {
   "cell_type": "code",
   "execution_count": null,
   "metadata": {},
   "outputs": [],
   "source": []
  }
 ],
 "metadata": {
  "kernelspec": {
   "display_name": "Pythonomy",
   "language": "python",
   "name": "pythonomy"
  },
  "language_info": {
   "codemirror_mode": {
    "name": "ipython",
    "version": 3
   },
   "file_extension": ".py",
   "mimetype": "text/x-python",
   "name": "python",
   "nbconvert_exporter": "python",
   "pygments_lexer": "ipython3",
   "version": "3.6.7"
  }
 },
 "nbformat": 4,
 "nbformat_minor": 2
}
